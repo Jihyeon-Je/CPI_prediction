{
  "cells": [
    {
      "cell_type": "code",
      "source": [
        "!pip install rdkit-pypi"
      ],
      "metadata": {
        "colab": {
          "base_uri": "https://localhost:8080/"
        },
        "id": "ZO_CRGtbsOIj",
        "outputId": "ba6e2701-24ac-406f-bd41-1c40ccbc9727"
      },
      "execution_count": 1,
      "outputs": [
        {
          "output_type": "stream",
          "name": "stdout",
          "text": [
            "Collecting rdkit-pypi\n",
            "  Downloading rdkit_pypi-2022.3.1-cp37-cp37m-manylinux_2_17_x86_64.manylinux2014_x86_64.whl (22.5 MB)\n",
            "\u001b[K     |████████████████████████████████| 22.5 MB 1.5 MB/s \n",
            "\u001b[?25hRequirement already satisfied: numpy>=1.19 in /usr/local/lib/python3.7/dist-packages (from rdkit-pypi) (1.21.5)\n",
            "Requirement already satisfied: Pillow in /usr/local/lib/python3.7/dist-packages (from rdkit-pypi) (7.1.2)\n",
            "Installing collected packages: rdkit-pypi\n",
            "Successfully installed rdkit-pypi-2022.3.1\n"
          ]
        }
      ]
    },
    {
      "cell_type": "code",
      "source": [
        "from collections import defaultdict\n",
        "import os\n",
        "import pickle\n",
        "\n",
        "import sys\n",
        "\n",
        "import numpy as np\n",
        "\n",
        "from rdkit import Chem\n",
        "\n",
        "\n",
        "def create_atoms(mol):\n",
        "    \"\"\"Create a list of atom (e.g., hydrogen and oxygen) IDs\n",
        "    considering the aromaticity.\"\"\"\n",
        "    atoms = [a.GetSymbol() for a in mol.GetAtoms()]\n",
        "    for a in mol.GetAromaticAtoms():\n",
        "        i = a.GetIdx()\n",
        "        atoms[i] = (atoms[i], 'aromatic')\n",
        "    atoms = [atom_dict[a] for a in atoms]\n",
        "    return np.array(atoms)\n",
        "\n",
        "\n",
        "def create_ijbonddict(mol):\n",
        "    \"\"\"Create a dictionary, which each key is a node ID\n",
        "    and each value is the tuples of its neighboring node\n",
        "    and bond (e.g., single and double) IDs.\"\"\"\n",
        "    i_jbond_dict = defaultdict(lambda: [])\n",
        "    for b in mol.GetBonds():\n",
        "        i, j = b.GetBeginAtomIdx(), b.GetEndAtomIdx()\n",
        "        bond = bond_dict[str(b.GetBondType())]\n",
        "        i_jbond_dict[i].append((j, bond))\n",
        "        i_jbond_dict[j].append((i, bond))\n",
        "    return i_jbond_dict\n",
        "\n",
        "\n",
        "def extract_fingerprints(atoms, i_jbond_dict, radius):\n",
        "    \"\"\"Extract the r-radius subgraphs (i.e., fingerprints)\n",
        "    from a molecular graph using Weisfeiler-Lehman algorithm.\"\"\"\n",
        "\n",
        "    if (len(atoms) == 1) or (radius == 0):\n",
        "        fingerprints = [fingerprint_dict[a] for a in atoms]\n",
        "\n",
        "    else:\n",
        "        nodes = atoms\n",
        "        i_jedge_dict = i_jbond_dict\n",
        "\n",
        "        for _ in range(radius):\n",
        "\n",
        "            \"\"\"Update each node ID considering its neighboring nodes and edges\n",
        "            (i.e., r-radius subgraphs or fingerprints).\"\"\"\n",
        "            fingerprints = []\n",
        "            for i, j_edge in i_jedge_dict.items():\n",
        "                neighbors = [(nodes[j], edge) for j, edge in j_edge]\n",
        "                fingerprint = (nodes[i], tuple(sorted(neighbors)))\n",
        "                fingerprints.append(fingerprint_dict[fingerprint])\n",
        "            nodes = fingerprints\n",
        "\n",
        "            \"\"\"Also update each edge ID considering two nodes\n",
        "            on its both sides.\"\"\"\n",
        "            _i_jedge_dict = defaultdict(lambda: [])\n",
        "            for i, j_edge in i_jedge_dict.items():\n",
        "                for j, edge in j_edge:\n",
        "                    both_side = tuple(sorted((nodes[i], nodes[j])))\n",
        "                    edge = edge_dict[(both_side, edge)]\n",
        "                    _i_jedge_dict[i].append((j, edge))\n",
        "            i_jedge_dict = _i_jedge_dict\n",
        "\n",
        "    return np.array(fingerprints)\n",
        "\n",
        "\n",
        "def create_adjacency(mol):\n",
        "    adjacency = Chem.GetAdjacencyMatrix(mol)\n",
        "    return np.array(adjacency)\n",
        "\n",
        "\n",
        "def split_sequence(sequence, ngram):\n",
        "    sequence = '-' + sequence + '='\n",
        "    words = [word_dict[sequence[i:i+ngram]]\n",
        "             for i in range(len(sequence)-ngram+1)]\n",
        "    return np.array(words)\n",
        "\n",
        "\n",
        "def dump_dictionary(dictionary, filename):\n",
        "    with open(filename, 'wb') as f:\n",
        "        pickle.dump(dict(dictionary), f)"
      ],
      "metadata": {
        "id": "rfbLSxtDrMMz"
      },
      "execution_count": 2,
      "outputs": []
    },
    {
      "cell_type": "markdown",
      "source": [
        "r-radius is 2, n-gram is 3, window size is 11, vector dimensionality is 10, number of time steps in GNN is 3, and number of layers in CNN is 3."
      ],
      "metadata": {
        "id": "ileEEb27tdKq"
      }
    },
    {
      "cell_type": "code",
      "source": [
        "radius, ngram = map(int, [2, 3])"
      ],
      "metadata": {
        "id": "-varvQZ_tcaL"
      },
      "execution_count": 5,
      "outputs": []
    },
    {
      "cell_type": "code",
      "source": [
        "with open('/content/data.txt', 'r') as f:\n",
        "        data_list = f.read().strip().split('\\n')\n",
        "\n",
        "data_list = [d for d in data_list if '.' not in d.strip().split()[0]]\n",
        "N = len(data_list)\n",
        "\n",
        "atom_dict = defaultdict(lambda: len(atom_dict))\n",
        "bond_dict = defaultdict(lambda: len(bond_dict))\n",
        "fingerprint_dict = defaultdict(lambda: len(fingerprint_dict))\n",
        "edge_dict = defaultdict(lambda: len(edge_dict))\n",
        "word_dict = defaultdict(lambda: len(word_dict))\n",
        "\n",
        "Smiles, compounds, adjacencies, proteins, interactions = '', [], [], [], []\n",
        "\n",
        "for no, data in enumerate(data_list):\n",
        "\n",
        "  #print('/'.join(map(str, [no+1, N])))\n",
        "\n",
        "  smiles, sequence, interaction = data.strip().split()\n",
        "  Smiles += smiles + '\\n'\n",
        "\n",
        "  mol = Chem.AddHs(Chem.MolFromSmiles(smiles))  # Consider hydrogens.\n",
        "  atoms = create_atoms(mol)\n",
        "  i_jbond_dict = create_ijbonddict(mol)\n",
        "\n",
        "  fingerprints = extract_fingerprints(atoms, i_jbond_dict, radius)\n",
        "  compounds.append(fingerprints)\n",
        "\n",
        "  adjacency = create_adjacency(mol)\n",
        "  adjacencies.append(adjacency)\n",
        "\n",
        "  words = split_sequence(sequence, ngram)\n",
        "  proteins.append(words)\n",
        "\n",
        "  interactions.append(np.array([float(interaction)]))"
      ],
      "metadata": {
        "id": "m6pXmQMrswCF"
      },
      "execution_count": 6,
      "outputs": []
    },
    {
      "cell_type": "code",
      "source": [
        "dir_input = ('/content/input/'\n",
        "                 'radius' + str(radius) + '_ngram' + str(ngram) + '/')\n",
        "os.makedirs(dir_input, exist_ok=True)\n",
        "\n",
        "with open(dir_input + 'Smiles.txt', 'w') as f:\n",
        "    f.write(Smiles)\n",
        "np.save(dir_input + 'compounds', compounds)\n",
        "np.save(dir_input + 'adjacencies', adjacencies)\n",
        "np.save(dir_input + 'proteins', proteins)\n",
        "np.save(dir_input + 'interactions', interactions)\n",
        "dump_dictionary(fingerprint_dict, dir_input + 'fingerprint_dict.pickle')\n",
        "dump_dictionary(word_dict, dir_input + 'word_dict.pickle')\n",
        "\n",
        "print('preprocessing finished!')"
      ],
      "metadata": {
        "colab": {
          "base_uri": "https://localhost:8080/"
        },
        "id": "CY-oE3sfuCn_",
        "outputId": "642cc2f1-831f-4c47-f412-a9f74a1efe44"
      },
      "execution_count": 7,
      "outputs": [
        {
          "output_type": "stream",
          "name": "stderr",
          "text": [
            "/usr/local/lib/python3.7/dist-packages/numpy/lib/npyio.py:528: VisibleDeprecationWarning: Creating an ndarray from ragged nested sequences (which is a list-or-tuple of lists-or-tuples-or ndarrays with different lengths or shapes) is deprecated. If you meant to do this, you must specify 'dtype=object' when creating the ndarray.\n",
            "  arr = np.asanyarray(arr)\n"
          ]
        },
        {
          "output_type": "stream",
          "name": "stdout",
          "text": [
            "preprocessing finished!\n"
          ]
        }
      ]
    },
    {
      "cell_type": "code",
      "source": [
        "with open('/content/tox21.txt', 'r') as f:\n",
        "        data_list = f.read().strip().split('\\n')\n",
        "data_list = data_list[10:446]\n",
        "data_list = [d for d in data_list if '.' not in d.strip().split()[0]]\n",
        "N = len(data_list)\n",
        "\n",
        "atom_dict = defaultdict(lambda: len(atom_dict))\n",
        "bond_dict = defaultdict(lambda: len(bond_dict))\n",
        "fingerprint_dict = defaultdict(lambda: len(fingerprint_dict))\n",
        "edge_dict = defaultdict(lambda: len(edge_dict))\n",
        "word_dict = defaultdict(lambda: len(word_dict))\n",
        "\n",
        "Smiles, compounds, adjacencies, proteins, interactions = '', [], [], [], []\n",
        "\n",
        "for no, data in enumerate(data_list):\n",
        "\n",
        "  #print('/'.join(map(str, [no+1, N])))\n",
        "\n",
        "  smiles, interaction = data.strip().split()\n",
        "  Smiles += smiles + '\\n'\n",
        "\n",
        "  mol = Chem.AddHs(Chem.MolFromSmiles(smiles))  # Consider hydrogens.\n",
        "  atoms = create_atoms(mol)\n",
        "  i_jbond_dict = create_ijbonddict(mol)\n",
        "\n",
        "  fingerprints = extract_fingerprints(atoms, i_jbond_dict, radius)\n",
        "  compounds.append(fingerprints)\n",
        "\n",
        "  adjacency = create_adjacency(mol)\n",
        "  adjacencies.append(adjacency)\n",
        "\n",
        "  words = split_sequence(\" \", ngram)\n",
        "  proteins.append(words)\n",
        "\n",
        "  interactions.append(np.array([float(interaction.replace(\"\\\\\",\"\"))]))"
      ],
      "metadata": {
        "id": "MmRpNLaaRPZf"
      },
      "execution_count": 17,
      "outputs": []
    },
    {
      "cell_type": "code",
      "source": [
        "dir_input = ('/content/newinput/'\n",
        "                 'radius' + str(radius) + '_ngram' + str(ngram) + '/')\n",
        "os.makedirs(dir_input, exist_ok=True)\n",
        "\n",
        "with open(dir_input + 'Smiles.txt', 'w') as f:\n",
        "    f.write(Smiles)\n",
        "np.save(dir_input + 'compounds', compounds)\n",
        "np.save(dir_input + 'adjacencies', adjacencies)\n",
        "np.save(dir_input + 'proteins', proteins)\n",
        "np.save(dir_input + 'interactions', interactions)\n",
        "dump_dictionary(fingerprint_dict, dir_input + 'fingerprint_dict.pickle')\n",
        "dump_dictionary(word_dict, dir_input + 'word_dict.pickle')\n",
        "\n",
        "print('preprocessing finished!')"
      ],
      "metadata": {
        "colab": {
          "base_uri": "https://localhost:8080/"
        },
        "id": "7RsKZcuCRcIP",
        "outputId": "22b908a8-80ea-46ac-d4d3-589223330f2d"
      },
      "execution_count": 18,
      "outputs": [
        {
          "output_type": "stream",
          "name": "stdout",
          "text": [
            "preprocessing finished!\n"
          ]
        },
        {
          "output_type": "stream",
          "name": "stderr",
          "text": [
            "/usr/local/lib/python3.7/dist-packages/numpy/lib/npyio.py:528: VisibleDeprecationWarning: Creating an ndarray from ragged nested sequences (which is a list-or-tuple of lists-or-tuples-or ndarrays with different lengths or shapes) is deprecated. If you meant to do this, you must specify 'dtype=object' when creating the ndarray.\n",
            "  arr = np.asanyarray(arr)\n"
          ]
        }
      ]
    },
    {
      "cell_type": "code",
      "source": [
        "\n",
        "dim = 10\n",
        "layer_gnn = 3\n",
        "window = 11\n",
        "layer_cnn = 3\n",
        "layer_output = 3\n",
        "decay_interval = 10\n",
        "iteration = 100\n",
        "lr = 1e-4\n",
        "lr_decay = 0.5\n",
        "weight_decay = 1e-6\n",
        "\n",
        "(dim, layer_gnn, window, layer_cnn, layer_output, decay_interval,\n",
        "  iteration) = map(int, [dim, layer_gnn, window, layer_cnn, layer_output,\n",
        "                        decay_interval, iteration])\n",
        "lr, lr_decay, weight_decay = map(float, [lr, lr_decay, weight_decay])"
      ],
      "metadata": {
        "id": "Ei4gOne6wKws"
      },
      "execution_count": 8,
      "outputs": []
    },
    {
      "cell_type": "code",
      "source": [
        "import pickle\n",
        "import sys\n",
        "import timeit\n",
        "\n",
        "import numpy as np\n",
        "\n",
        "import torch\n",
        "import torch.nn as nn\n",
        "import torch.nn.functional as F\n",
        "\n",
        "import torch.optim as optim\n",
        "\n",
        "from sklearn.metrics import roc_auc_score, precision_score, recall_score\n",
        "import networkx as nx"
      ],
      "metadata": {
        "id": "-vinYqamrPTT"
      },
      "execution_count": 9,
      "outputs": []
    },
    {
      "cell_type": "code",
      "source": [
        "\n",
        "class CompoundProteinInteractionPrediction(nn.Module):\n",
        "    def __init__(self):\n",
        "        super(CompoundProteinInteractionPrediction, self).__init__()\n",
        "        self.embed_fingerprint = nn.Embedding(n_fingerprint, dim)\n",
        "        self.embed_word = nn.Embedding(n_word, dim)\n",
        "        \n",
        "        self.W_gnn = nn.ModuleList([nn.Linear(dim, dim)\n",
        "                                    for _ in range(layer_gnn)])\n",
        "        self.W_cnn = nn.ModuleList([nn.Conv2d(\n",
        "                     in_channels=1, out_channels=1, kernel_size=2*window+1,\n",
        "                     stride=1, padding=window) for _ in range(layer_cnn)])\n",
        "        self.W_attention = nn.Linear(dim, dim)\n",
        "        self.W_out = nn.ModuleList([nn.Linear(2*dim, 2*dim)\n",
        "                                    for _ in range(layer_output)])\n",
        "        self.W_interaction = nn.Linear(2*dim, 2)\n",
        "\n",
        "    def gnn(self, xs, A, layer):\n",
        "        for i in range(layer):\n",
        "            hs = torch.relu(self.W_gnn[i](xs))\n",
        "            xs = xs + torch.matmul(A, hs)\n",
        "        # return torch.unsqueeze(torch.sum(xs, 0), 0)\n",
        "        return torch.unsqueeze(torch.mean(xs, 0), 0)\n",
        "\n",
        "    def attention_cnn(self, x, xs, layer):\n",
        "        \"\"\"The attention mechanism is applied to the last layer of CNN.\"\"\"\n",
        "\n",
        "        xs = torch.unsqueeze(torch.unsqueeze(xs, 0), 0)\n",
        "        for i in range(layer):\n",
        "            xs = torch.relu(self.W_cnn[i](xs))\n",
        "        xs = torch.squeeze(torch.squeeze(xs, 0), 0)\n",
        "        h = torch.relu(self.W_attention(x))\n",
        "        hs = torch.relu(self.W_attention(xs))\n",
        "        weights = torch.tanh(F.linear(h, hs))\n",
        "        ys = torch.t(weights) * hs\n",
        "        # return torch.unsqueeze(torch.sum(ys, 0), 0)\n",
        "        return torch.unsqueeze(torch.mean(ys, 0), 0)\n",
        "\n",
        "    def forward(self, inputs):\n",
        "\n",
        "        fingerprints, adjacency, words = inputs\n",
        "\n",
        "        \"\"\"Compound vector with GNN.\"\"\"\n",
        "        fingerprint_vectors = self.embed_fingerprint(fingerprints)\n",
        "        compound_vector = self.gnn(fingerprint_vectors, adjacency, layer_gnn)\n",
        "    \n",
        "        \"\"\"Protein vector with attention-CNN.\"\"\"\n",
        "        word_vectors = self.embed_word(words)\n",
        "        protein_vector = self.attention_cnn(compound_vector,\n",
        "                                            word_vectors, layer_cnn)\n",
        "        if(protein_vector[0][0]!=0):\n",
        "          #print(\"cnn+gnn\")\n",
        "          cat_vector = torch.cat((compound_vector, protein_vector), 1)\n",
        "        else:\n",
        "          #print(\"gnn only\")\n",
        "          b = protein_vector*0\n",
        "          cat_vector = torch.cat((compound_vector, b), 1)\n",
        "          \n",
        "        for j in range(layer_output):\n",
        "            cat_vector = torch.relu(self.W_out[j](cat_vector))\n",
        "\n",
        "        interaction = self.W_interaction(cat_vector)\n",
        "        return interaction, compound_vector, fingerprint_vectors, adjacency\n",
        "\n",
        "    def __call__(self, data, train=True):\n",
        "\n",
        "        inputs, correct_interaction = data[:-1], data[-1]\n",
        "        predicted_interaction, cv, fv, adj = self.forward(inputs)\n",
        "\n",
        "        if train:\n",
        "            loss = F.cross_entropy(predicted_interaction, correct_interaction)\n",
        "            return loss\n",
        "        else:\n",
        "            correct_labels = correct_interaction.to('cpu').data.numpy()\n",
        "            ys = F.softmax(predicted_interaction, 1).to('cpu').data.numpy()\n",
        "            predicted_labels = list(map(lambda x: np.argmax(x), ys))\n",
        "            predicted_scores = list(map(lambda x: x[1], ys))\n",
        "            return correct_labels, predicted_labels, predicted_scores, predicted_interaction, cv, fv, adj\n",
        "\n",
        "\n",
        "class Trainer(object):\n",
        "    def __init__(self, model):\n",
        "        self.model = model\n",
        "        self.optimizer = optim.Adam(self.model.parameters(),\n",
        "                                    lr=lr, weight_decay=weight_decay)\n",
        "\n",
        "    def train(self, dataset):\n",
        "        np.random.shuffle(dataset)\n",
        "        N = len(dataset)\n",
        "        loss_total = 0\n",
        "        for data in dataset:\n",
        "            loss = self.model(data)\n",
        "            self.optimizer.zero_grad()\n",
        "            loss.backward()\n",
        "            self.optimizer.step()\n",
        "            loss_total += loss.to('cpu').data.numpy()\n",
        "            #print(\"i am working\")\n",
        "        return loss_total\n",
        "\n",
        "\n",
        "class Tester(object):\n",
        "    def __init__(self, model):\n",
        "        self.model = model\n",
        "\n",
        "    def test(self, dataset):\n",
        "        N = len(dataset)\n",
        "        T, Y, S = [], [], []\n",
        "        \n",
        "        for data in dataset:\n",
        "            (correct_labels, predicted_labels,\n",
        "             predicted_scores, pi, cv, fv, adj) = self.model(data, train=False)\n",
        "            T.append(correct_labels)\n",
        "            Y.append(predicted_labels)\n",
        "            S.append(predicted_scores)\n",
        "        AUC = roc_auc_score(T, S)\n",
        "        \n",
        "        precision = precision_score(T, Y)\n",
        "        recall = recall_score(T, Y)\n",
        "        return AUC, precision, recall, pi, cv, fv, adj\n",
        "\n",
        "    def save_AUCs(self, AUCs, filename):\n",
        "        with open(filename, 'a') as f:\n",
        "            f.write('\\t'.join(map(str, AUCs)) + '\\n')\n",
        "\n",
        "    def save_model(self, model, filename):\n",
        "        torch.save(model.state_dict(), filename)\n",
        "\n",
        "\n",
        "def load_tensor(file_name, dtype):\n",
        "    return [dtype(d).to(device) for d in np.load(file_name + '.npy', allow_pickle=True)]\n",
        "\n",
        "\n",
        "\n",
        "def load_pickle(file_name):\n",
        "    with open(file_name, 'rb') as f:\n",
        "        return pickle.load(f)\n",
        "\n",
        "\n",
        "def shuffle_dataset(dataset, seed):\n",
        "    np.random.seed(seed)\n",
        "    np.random.shuffle(dataset)\n",
        "    return dataset\n",
        "\n",
        "\n",
        "def split_dataset(dataset, ratio):\n",
        "    n = int(ratio * len(dataset))\n",
        "    dataset_1, dataset_2 = dataset[:n], dataset[n:]\n",
        "    return dataset_1, dataset_2\n"
      ],
      "metadata": {
        "id": "7cyJJyLygGFQ"
      },
      "execution_count": 47,
      "outputs": []
    },
    {
      "cell_type": "code",
      "source": [
        "if torch.cuda.is_available():\n",
        "  device = torch.device('cuda')\n",
        "  print('The code uses GPU...')\n",
        "else:\n",
        "  device = torch.device('cpu')\n",
        "  print('The code uses CPU!!!')\n",
        "\n",
        "dir_input = ('/content/input/'\n",
        "                 'radius' + str(radius) + '_ngram' + str(ngram) + '/')\n",
        "\n",
        "\"load data\"\n",
        "compounds = load_tensor(dir_input + 'compounds', torch.LongTensor)\n",
        "adjacencies = load_tensor(dir_input + 'adjacencies', torch.FloatTensor)\n",
        "proteins = load_tensor(dir_input + 'proteins', torch.LongTensor)\n",
        "interactions = load_tensor(dir_input + 'interactions', torch.LongTensor)\n",
        "fingerprint_dict = load_pickle(dir_input + 'fingerprint_dict.pickle')\n",
        "word_dict = load_pickle(dir_input + 'word_dict.pickle')\n",
        "n_fingerprint = len(fingerprint_dict)\n",
        "n_word = len(word_dict)"
      ],
      "metadata": {
        "colab": {
          "base_uri": "https://localhost:8080/"
        },
        "id": "WzHZHtYHugkO",
        "outputId": "d19117a1-d343-49b5-ff69-d33967796595"
      },
      "execution_count": 48,
      "outputs": [
        {
          "output_type": "stream",
          "name": "stdout",
          "text": [
            "The code uses GPU...\n"
          ]
        }
      ]
    },
    {
      "cell_type": "code",
      "source": [
        "\"\"\"Create a dataset and split it into train/dev/test.\"\"\"\n",
        "dataset = list(zip(compounds, adjacencies, proteins, interactions))\n",
        "dataset = shuffle_dataset(dataset, 1234)\n",
        "dataset_train, dataset_ = split_dataset(dataset, 0.8)\n",
        "dataset_dev, dataset_test = split_dataset(dataset_, 0.5)"
      ],
      "metadata": {
        "id": "rsvDvbtav1zS"
      },
      "execution_count": 49,
      "outputs": []
    },
    {
      "cell_type": "markdown",
      "source": [
        "r-radius is 2, n-gram is 3, window size is 11, vector dimensionality is 10, number of time steps in GNN is 3, and number of layers in CNN is 3."
      ],
      "metadata": {
        "id": "y6w_IdkQwWt9"
      }
    },
    {
      "cell_type": "code",
      "source": [
        "import matplotlib.pyplot as plt\n",
        "import networkx as nx"
      ],
      "metadata": {
        "id": "SSCH2Gm5tAwf"
      },
      "execution_count": 13,
      "outputs": []
    },
    {
      "cell_type": "code",
      "source": [
        "print(model)"
      ],
      "metadata": {
        "colab": {
          "base_uri": "https://localhost:8080/"
        },
        "id": "UNBU-PiEDBLK",
        "outputId": "d2cb0557-43bf-460b-dfcb-525107616013"
      },
      "execution_count": 16,
      "outputs": [
        {
          "output_type": "stream",
          "name": "stdout",
          "text": [
            "CompoundProteinInteractionPrediction(\n",
            "  (embed_fingerprint): Embedding(6341, 10)\n",
            "  (embed_word): Embedding(8393, 10)\n",
            "  (W_gnn): ModuleList(\n",
            "    (0): Linear(in_features=10, out_features=10, bias=True)\n",
            "    (1): Linear(in_features=10, out_features=10, bias=True)\n",
            "    (2): Linear(in_features=10, out_features=10, bias=True)\n",
            "  )\n",
            "  (W_cnn): ModuleList(\n",
            "    (0): Conv2d(1, 1, kernel_size=(23, 23), stride=(1, 1), padding=(11, 11))\n",
            "    (1): Conv2d(1, 1, kernel_size=(23, 23), stride=(1, 1), padding=(11, 11))\n",
            "    (2): Conv2d(1, 1, kernel_size=(23, 23), stride=(1, 1), padding=(11, 11))\n",
            "  )\n",
            "  (W_attention): Linear(in_features=10, out_features=10, bias=True)\n",
            "  (W_out): ModuleList(\n",
            "    (0): Linear(in_features=20, out_features=20, bias=True)\n",
            "    (1): Linear(in_features=20, out_features=20, bias=True)\n",
            "    (2): Linear(in_features=20, out_features=20, bias=True)\n",
            "  )\n",
            "  (W_interaction): Linear(in_features=20, out_features=2, bias=True)\n",
            ")\n"
          ]
        }
      ]
    },
    {
      "cell_type": "code",
      "source": [
        "adjacency = adj.cpu().numpy()"
      ],
      "metadata": {
        "id": "QyrMOBNpxw3g"
      },
      "execution_count": null,
      "outputs": []
    },
    {
      "cell_type": "code",
      "source": [
        "fv.shape"
      ],
      "metadata": {
        "colab": {
          "base_uri": "https://localhost:8080/"
        },
        "id": "a5ztV_uz7a8f",
        "outputId": "968a0f18-10e6-4389-f236-4d51f5dab5cc"
      },
      "execution_count": null,
      "outputs": [
        {
          "output_type": "execute_result",
          "data": {
            "text/plain": [
              "torch.Size([37, 10])"
            ]
          },
          "metadata": {},
          "execution_count": 20
        }
      ]
    },
    {
      "cell_type": "code",
      "source": [
        "import pandas as pd\n",
        "import networkx as nx\n",
        "G = nx.DiGraph(adjacency)"
      ],
      "metadata": {
        "id": "m0Qn3PpKMSEL"
      },
      "execution_count": null,
      "outputs": []
    },
    {
      "cell_type": "code",
      "source": [
        "nx.draw(G)\n"
      ],
      "metadata": {
        "colab": {
          "base_uri": "https://localhost:8080/",
          "height": 319
        },
        "id": "ysgUG7sPSm1X",
        "outputId": "3a3151e7-c4a5-48cd-914a-a9b4019813c1"
      },
      "execution_count": null,
      "outputs": [
        {
          "output_type": "display_data",
          "data": {
            "text/plain": [
              "<Figure size 432x288 with 1 Axes>"
            ],
            "image/png": "[encoded data removed]"
          },
          "metadata": {}
        }
      ]
    },
    {
      "cell_type": "code",
      "source": [
        "protein_vector"
      ],
      "metadata": {
        "colab": {
          "base_uri": "https://localhost:8080/",
          "height": 168
        },
        "id": "5ofHrZKm7xRj",
        "outputId": "8aa2b68d-ba84-4416-d89b-67ff9d6bddcd"
      },
      "execution_count": null,
      "outputs": [
        {
          "output_type": "error",
          "ename": "NameError",
          "evalue": "ignored",
          "traceback": [
            "\u001b[0;31m---------------------------------------------------------------------------\u001b[0m",
            "\u001b[0;31mNameError\u001b[0m                                 Traceback (most recent call last)",
            "\u001b[0;32m<ipython-input-22-d9065444cdc8>\u001b[0m in \u001b[0;36m<module>\u001b[0;34m()\u001b[0m\n\u001b[0;32m----> 1\u001b[0;31m \u001b[0mprotein_vector\u001b[0m\u001b[0;34m\u001b[0m\u001b[0;34m\u001b[0m\u001b[0m\n\u001b[0m",
            "\u001b[0;31mNameError\u001b[0m: name 'protein_vector' is not defined"
          ]
        }
      ]
    },
    {
      "cell_type": "code",
      "source": [
        "\"set model\"\n",
        "torch.manual_seed(1234)\n",
        "model = CompoundProteinInteractionPrediction().to(device)\n",
        "trainer = Trainer(model)\n",
        "tester = Tester(model)"
      ],
      "metadata": {
        "id": "Qd4HPAYzwEM6"
      },
      "execution_count": 50,
      "outputs": []
    },
    {
      "cell_type": "code",
      "source": [
        "\"\"\"Start training.\"\"\"\n",
        "\n",
        "print('Training...')\n",
        "\n",
        "start = timeit.default_timer()\n",
        "totauc = []\n",
        "totlosst = []\n",
        "totprec = []\n",
        "totrecall = []\n",
        "for epoch in range(1, iteration):\n",
        "\n",
        "  if epoch % decay_interval == 0:\n",
        "      trainer.optimizer.param_groups[0]['lr'] *= lr_decay\n",
        "  \n",
        "  loss_train = trainer.train(dataset_train)\n",
        "  AUC_test, precision_test, recall_test, pi, cv, fv, adj = tester.test(dataset_test)\n",
        "  AUC_dev = tester.test(dataset_dev)[0]\n",
        "  end = timeit.default_timer()\n",
        "  time = end - start\n",
        "\n",
        "  AUCs = [epoch, time, loss_train, AUC_dev,\n",
        "          AUC_test, precision_test, recall_test]\n",
        "  totauc.append(AUC_test)\n",
        "  totlosst.append(loss_train)\n",
        "  totprec.append(precision_test)\n",
        "  totrecall.append(recall_test)\n",
        "  #tester.save_AUCs(AUCs, file_AUCs)\n",
        "\n",
        "  print('\\t'.join(map(str, AUCs)))\n",
        "  adjacency = adj.cpu().numpy()\n",
        "  G = nx.DiGraph(adjacency)\n",
        "  nx.draw(G)"
      ],
      "metadata": {
        "colab": {
          "base_uri": "https://localhost:8080/",
          "height": 787
        },
        "id": "XGfOOh0dzQdj",
        "outputId": "928987b3-53df-490b-9a73-536948d008eb"
      },
      "execution_count": 51,
      "outputs": [
        {
          "output_type": "stream",
          "name": "stdout",
          "text": [
            "Training...\n",
            "1\t26.79550110299988\t3046.601733366959\t0.8377567960157709\t0.8058553411207042\t0.732360097323601\t0.840782122905028\n",
            "2\t54.145310131999395\t2354.724982572254\t0.8724735422286782\t0.8471940071102082\t0.8162650602409639\t0.7569832402234636\n",
            "3\t81.03496624199943\t2109.1090418600943\t0.8913882548246523\t0.8757300660233621\t0.8263305322128851\t0.8240223463687151\n",
            "4\t108.23721200199998\t1900.095303047914\t0.9035484540361071\t0.8986054680887083\t0.8141361256544503\t0.8687150837988827\n",
            "5\t135.030825758\t1688.6910308588122\t0.9202946669433492\t0.9127518198747249\t0.887240356083086\t0.835195530726257\n"
          ]
        },
        {
          "output_type": "error",
          "ename": "KeyboardInterrupt",
          "evalue": "ignored",
          "traceback": [
            "\u001b[0;31m---------------------------------------------------------------------------\u001b[0m",
            "\u001b[0;31mKeyboardInterrupt\u001b[0m                         Traceback (most recent call last)",
            "\u001b[0;32m<ipython-input-51-0bade3538e2e>\u001b[0m in \u001b[0;36m<module>\u001b[0;34m()\u001b[0m\n\u001b[1;32m     13\u001b[0m       \u001b[0mtrainer\u001b[0m\u001b[0;34m.\u001b[0m\u001b[0moptimizer\u001b[0m\u001b[0;34m.\u001b[0m\u001b[0mparam_groups\u001b[0m\u001b[0;34m[\u001b[0m\u001b[0;36m0\u001b[0m\u001b[0;34m]\u001b[0m\u001b[0;34m[\u001b[0m\u001b[0;34m'lr'\u001b[0m\u001b[0;34m]\u001b[0m \u001b[0;34m*=\u001b[0m \u001b[0mlr_decay\u001b[0m\u001b[0;34m\u001b[0m\u001b[0;34m\u001b[0m\u001b[0m\n\u001b[1;32m     14\u001b[0m \u001b[0;34m\u001b[0m\u001b[0m\n\u001b[0;32m---> 15\u001b[0;31m   \u001b[0mloss_train\u001b[0m \u001b[0;34m=\u001b[0m \u001b[0mtrainer\u001b[0m\u001b[0;34m.\u001b[0m\u001b[0mtrain\u001b[0m\u001b[0;34m(\u001b[0m\u001b[0mdataset_train\u001b[0m\u001b[0;34m)\u001b[0m\u001b[0;34m\u001b[0m\u001b[0;34m\u001b[0m\u001b[0m\n\u001b[0m\u001b[1;32m     16\u001b[0m   \u001b[0mAUC_test\u001b[0m\u001b[0;34m,\u001b[0m \u001b[0mprecision_test\u001b[0m\u001b[0;34m,\u001b[0m \u001b[0mrecall_test\u001b[0m\u001b[0;34m,\u001b[0m \u001b[0mpi\u001b[0m\u001b[0;34m,\u001b[0m \u001b[0mcv\u001b[0m\u001b[0;34m,\u001b[0m \u001b[0mfv\u001b[0m\u001b[0;34m,\u001b[0m \u001b[0madj\u001b[0m \u001b[0;34m=\u001b[0m \u001b[0mtester\u001b[0m\u001b[0;34m.\u001b[0m\u001b[0mtest\u001b[0m\u001b[0;34m(\u001b[0m\u001b[0mdataset_test\u001b[0m\u001b[0;34m)\u001b[0m\u001b[0;34m\u001b[0m\u001b[0;34m\u001b[0m\u001b[0m\n\u001b[1;32m     17\u001b[0m   \u001b[0mAUC_dev\u001b[0m \u001b[0;34m=\u001b[0m \u001b[0mtester\u001b[0m\u001b[0;34m.\u001b[0m\u001b[0mtest\u001b[0m\u001b[0;34m(\u001b[0m\u001b[0mdataset_dev\u001b[0m\u001b[0;34m)\u001b[0m\u001b[0;34m[\u001b[0m\u001b[0;36m0\u001b[0m\u001b[0;34m]\u001b[0m\u001b[0;34m\u001b[0m\u001b[0;34m\u001b[0m\u001b[0m\n",
            "\u001b[0;32m<ipython-input-47-8ca607264754>\u001b[0m in \u001b[0;36mtrain\u001b[0;34m(self, dataset)\u001b[0m\n\u001b[1;32m     90\u001b[0m         \u001b[0mloss_total\u001b[0m \u001b[0;34m=\u001b[0m \u001b[0;36m0\u001b[0m\u001b[0;34m\u001b[0m\u001b[0;34m\u001b[0m\u001b[0m\n\u001b[1;32m     91\u001b[0m         \u001b[0;32mfor\u001b[0m \u001b[0mdata\u001b[0m \u001b[0;32min\u001b[0m \u001b[0mdataset\u001b[0m\u001b[0;34m:\u001b[0m\u001b[0;34m\u001b[0m\u001b[0;34m\u001b[0m\u001b[0m\n\u001b[0;32m---> 92\u001b[0;31m             \u001b[0mloss\u001b[0m \u001b[0;34m=\u001b[0m \u001b[0mself\u001b[0m\u001b[0;34m.\u001b[0m\u001b[0mmodel\u001b[0m\u001b[0;34m(\u001b[0m\u001b[0mdata\u001b[0m\u001b[0;34m)\u001b[0m\u001b[0;34m\u001b[0m\u001b[0;34m\u001b[0m\u001b[0m\n\u001b[0m\u001b[1;32m     93\u001b[0m             \u001b[0mself\u001b[0m\u001b[0;34m.\u001b[0m\u001b[0moptimizer\u001b[0m\u001b[0;34m.\u001b[0m\u001b[0mzero_grad\u001b[0m\u001b[0;34m(\u001b[0m\u001b[0;34m)\u001b[0m\u001b[0;34m\u001b[0m\u001b[0;34m\u001b[0m\u001b[0m\n\u001b[1;32m     94\u001b[0m             \u001b[0mloss\u001b[0m\u001b[0;34m.\u001b[0m\u001b[0mbackward\u001b[0m\u001b[0;34m(\u001b[0m\u001b[0;34m)\u001b[0m\u001b[0;34m\u001b[0m\u001b[0;34m\u001b[0m\u001b[0m\n",
            "\u001b[0;32m<ipython-input-47-8ca607264754>\u001b[0m in \u001b[0;36m__call__\u001b[0;34m(self, data, train)\u001b[0m\n\u001b[1;32m     66\u001b[0m \u001b[0;34m\u001b[0m\u001b[0m\n\u001b[1;32m     67\u001b[0m         \u001b[0minputs\u001b[0m\u001b[0;34m,\u001b[0m \u001b[0mcorrect_interaction\u001b[0m \u001b[0;34m=\u001b[0m \u001b[0mdata\u001b[0m\u001b[0;34m[\u001b[0m\u001b[0;34m:\u001b[0m\u001b[0;34m-\u001b[0m\u001b[0;36m1\u001b[0m\u001b[0;34m]\u001b[0m\u001b[0;34m,\u001b[0m \u001b[0mdata\u001b[0m\u001b[0;34m[\u001b[0m\u001b[0;34m-\u001b[0m\u001b[0;36m1\u001b[0m\u001b[0;34m]\u001b[0m\u001b[0;34m\u001b[0m\u001b[0;34m\u001b[0m\u001b[0m\n\u001b[0;32m---> 68\u001b[0;31m         \u001b[0mpredicted_interaction\u001b[0m\u001b[0;34m,\u001b[0m \u001b[0mcv\u001b[0m\u001b[0;34m,\u001b[0m \u001b[0mfv\u001b[0m\u001b[0;34m,\u001b[0m \u001b[0madj\u001b[0m \u001b[0;34m=\u001b[0m \u001b[0mself\u001b[0m\u001b[0;34m.\u001b[0m\u001b[0mforward\u001b[0m\u001b[0;34m(\u001b[0m\u001b[0minputs\u001b[0m\u001b[0;34m)\u001b[0m\u001b[0;34m\u001b[0m\u001b[0;34m\u001b[0m\u001b[0m\n\u001b[0m\u001b[1;32m     69\u001b[0m \u001b[0;34m\u001b[0m\u001b[0m\n\u001b[1;32m     70\u001b[0m         \u001b[0;32mif\u001b[0m \u001b[0mtrain\u001b[0m\u001b[0;34m:\u001b[0m\u001b[0;34m\u001b[0m\u001b[0;34m\u001b[0m\u001b[0m\n",
            "\u001b[0;32m<ipython-input-47-8ca607264754>\u001b[0m in \u001b[0;36mforward\u001b[0;34m(self, inputs)\u001b[0m\n\u001b[1;32m     48\u001b[0m         \u001b[0mword_vectors\u001b[0m \u001b[0;34m=\u001b[0m \u001b[0mself\u001b[0m\u001b[0;34m.\u001b[0m\u001b[0membed_word\u001b[0m\u001b[0;34m(\u001b[0m\u001b[0mwords\u001b[0m\u001b[0;34m)\u001b[0m\u001b[0;34m\u001b[0m\u001b[0;34m\u001b[0m\u001b[0m\n\u001b[1;32m     49\u001b[0m         protein_vector = self.attention_cnn(compound_vector,\n\u001b[0;32m---> 50\u001b[0;31m                                             word_vectors, layer_cnn)\n\u001b[0m\u001b[1;32m     51\u001b[0m         \u001b[0;32mif\u001b[0m\u001b[0;34m(\u001b[0m\u001b[0mprotein_vector\u001b[0m\u001b[0;34m[\u001b[0m\u001b[0;36m0\u001b[0m\u001b[0;34m]\u001b[0m\u001b[0;34m[\u001b[0m\u001b[0;36m0\u001b[0m\u001b[0;34m]\u001b[0m\u001b[0;34m!=\u001b[0m\u001b[0;36m0\u001b[0m\u001b[0;34m)\u001b[0m\u001b[0;34m:\u001b[0m\u001b[0;34m\u001b[0m\u001b[0;34m\u001b[0m\u001b[0m\n\u001b[1;32m     52\u001b[0m           \u001b[0;31m#print(\"cnn+gnn\")\u001b[0m\u001b[0;34m\u001b[0m\u001b[0;34m\u001b[0m\u001b[0;34m\u001b[0m\u001b[0m\n",
            "\u001b[0;32m<ipython-input-47-8ca607264754>\u001b[0m in \u001b[0;36mattention_cnn\u001b[0;34m(self, x, xs, layer)\u001b[0m\n\u001b[1;32m     28\u001b[0m         \u001b[0mxs\u001b[0m \u001b[0;34m=\u001b[0m \u001b[0mtorch\u001b[0m\u001b[0;34m.\u001b[0m\u001b[0munsqueeze\u001b[0m\u001b[0;34m(\u001b[0m\u001b[0mtorch\u001b[0m\u001b[0;34m.\u001b[0m\u001b[0munsqueeze\u001b[0m\u001b[0;34m(\u001b[0m\u001b[0mxs\u001b[0m\u001b[0;34m,\u001b[0m \u001b[0;36m0\u001b[0m\u001b[0;34m)\u001b[0m\u001b[0;34m,\u001b[0m \u001b[0;36m0\u001b[0m\u001b[0;34m)\u001b[0m\u001b[0;34m\u001b[0m\u001b[0;34m\u001b[0m\u001b[0m\n\u001b[1;32m     29\u001b[0m         \u001b[0;32mfor\u001b[0m \u001b[0mi\u001b[0m \u001b[0;32min\u001b[0m \u001b[0mrange\u001b[0m\u001b[0;34m(\u001b[0m\u001b[0mlayer\u001b[0m\u001b[0;34m)\u001b[0m\u001b[0;34m:\u001b[0m\u001b[0;34m\u001b[0m\u001b[0;34m\u001b[0m\u001b[0m\n\u001b[0;32m---> 30\u001b[0;31m             \u001b[0mxs\u001b[0m \u001b[0;34m=\u001b[0m \u001b[0mtorch\u001b[0m\u001b[0;34m.\u001b[0m\u001b[0mrelu\u001b[0m\u001b[0;34m(\u001b[0m\u001b[0mself\u001b[0m\u001b[0;34m.\u001b[0m\u001b[0mW_cnn\u001b[0m\u001b[0;34m[\u001b[0m\u001b[0mi\u001b[0m\u001b[0;34m]\u001b[0m\u001b[0;34m(\u001b[0m\u001b[0mxs\u001b[0m\u001b[0;34m)\u001b[0m\u001b[0;34m)\u001b[0m\u001b[0;34m\u001b[0m\u001b[0;34m\u001b[0m\u001b[0m\n\u001b[0m\u001b[1;32m     31\u001b[0m         \u001b[0mxs\u001b[0m \u001b[0;34m=\u001b[0m \u001b[0mtorch\u001b[0m\u001b[0;34m.\u001b[0m\u001b[0msqueeze\u001b[0m\u001b[0;34m(\u001b[0m\u001b[0mtorch\u001b[0m\u001b[0;34m.\u001b[0m\u001b[0msqueeze\u001b[0m\u001b[0;34m(\u001b[0m\u001b[0mxs\u001b[0m\u001b[0;34m,\u001b[0m \u001b[0;36m0\u001b[0m\u001b[0;34m)\u001b[0m\u001b[0;34m,\u001b[0m \u001b[0;36m0\u001b[0m\u001b[0;34m)\u001b[0m\u001b[0;34m\u001b[0m\u001b[0;34m\u001b[0m\u001b[0m\n\u001b[1;32m     32\u001b[0m         \u001b[0mh\u001b[0m \u001b[0;34m=\u001b[0m \u001b[0mtorch\u001b[0m\u001b[0;34m.\u001b[0m\u001b[0mrelu\u001b[0m\u001b[0;34m(\u001b[0m\u001b[0mself\u001b[0m\u001b[0;34m.\u001b[0m\u001b[0mW_attention\u001b[0m\u001b[0;34m(\u001b[0m\u001b[0mx\u001b[0m\u001b[0;34m)\u001b[0m\u001b[0;34m)\u001b[0m\u001b[0;34m\u001b[0m\u001b[0;34m\u001b[0m\u001b[0m\n",
            "\u001b[0;31mKeyboardInterrupt\u001b[0m: "
          ]
        },
        {
          "output_type": "display_data",
          "data": {
            "text/plain": [
              "<Figure size 432x288 with 1 Axes>"
            ],
            "image/png": "[encoded data removed]"
          },
          "metadata": {}
        }
      ]
    },
    {
      "cell_type": "code",
      "source": [
        "plt.plot(totauc[:50])\n",
        "plt.title(\"AUC\")\n",
        "plt.ylabel(\"AUC score\")\n",
        "plt.xlabel(\"epoch\")\n",
        "\n",
        "\n",
        "plt.plot(totlosst[:50])\n",
        "plt.title(\"loss\")\n",
        "plt.ylabel(\"value\")\n",
        "plt.xlabel(\"epoch\")\n",
        "\n",
        "\n"
      ],
      "metadata": {
        "colab": {
          "base_uri": "https://localhost:8080/",
          "height": 313
        },
        "id": "UueBZRX3FZUZ",
        "outputId": "7da0395a-ee93-4207-f7ad-5b98566f5786"
      },
      "execution_count": 28,
      "outputs": [
        {
          "output_type": "execute_result",
          "data": {
            "text/plain": [
              "Text(0.5, 0, 'epoch')"
            ]
          },
          "metadata": {},
          "execution_count": 28
        },
        {
          "output_type": "display_data",
          "data": {
            "text/plain": [
              "<Figure size 432x288 with 1 Axes>"
            ],
            "image/png": "[encoded data removed]"
          },
          "metadata": {
            "needs_background": "light"
          }
        }
      ]
    },
    {
      "cell_type": "code",
      "source": [
        "model.W_gnn[2]\n",
        "\n",
        "\n"
      ],
      "metadata": {
        "colab": {
          "base_uri": "https://localhost:8080/"
        },
        "id": "srQ_GYAiU6hC",
        "outputId": "b032c6b7-d767-4f5b-991f-6b13aff83447"
      },
      "execution_count": null,
      "outputs": [
        {
          "output_type": "execute_result",
          "data": {
            "text/plain": [
              "Linear(in_features=10, out_features=10, bias=True)"
            ]
          },
          "metadata": {},
          "execution_count": 65
        }
      ]
    },
    {
      "cell_type": "code",
      "source": [
        "for param in model.parameters():\n",
        "    param.requires_grad = True\n",
        "    \n",
        "for name, child in model.named_children():\n",
        "   if name in ['W_gnn']:\n",
        "      child = model.W_gnn[2]\n",
        "      print(name + ' is unfrozen')\n",
        "      for param in child.parameters():\n",
        "          param.requires_grad = True\n",
        "   else:\n",
        "       print(name + ' is frozen')\n",
        "       for param in child.parameters():\n",
        "           param.requires_grad = False    "
      ],
      "metadata": {
        "colab": {
          "base_uri": "https://localhost:8080/"
        },
        "id": "xte5Yg9c7wdk",
        "outputId": "6bf9d849-8c52-405c-8c88-db4411dba877"
      },
      "execution_count": 52,
      "outputs": [
        {
          "output_type": "stream",
          "name": "stdout",
          "text": [
            "embed_fingerprint is frozen\n",
            "embed_word is frozen\n",
            "W_gnn is unfrozen\n",
            "W_cnn is frozen\n",
            "W_attention is frozen\n",
            "W_out is frozen\n",
            "W_interaction is frozen\n"
          ]
        }
      ]
    },
    {
      "cell_type": "code",
      "source": [
        "optimizer = torch.optim.SGD(filter(lambda p: p.requires_grad, model.parameters()), lr=0.0006, momentum=0.9)"
      ],
      "metadata": {
        "id": "dREg2xP3ARiR"
      },
      "execution_count": 39,
      "outputs": []
    },
    {
      "cell_type": "code",
      "source": [
        "if torch.cuda.is_available():\n",
        "  device = torch.device('cuda')\n",
        "  print('The code uses GPU...')\n",
        "else:\n",
        "  device = torch.device('cpu')\n",
        "  print('The code uses CPU!!!')\n",
        "\n",
        "dir_input = ('/content/newinput/'\n",
        "                 'radius' + str(radius) + '_ngram' + str(ngram) + '/')\n",
        "\n",
        "\"load data\"\n",
        "compounds = load_tensor(dir_input + 'compounds', torch.LongTensor)\n",
        "adjacencies = load_tensor(dir_input + 'adjacencies', torch.FloatTensor)\n",
        "proteins = load_tensor(dir_input + 'proteins', torch.LongTensor)\n",
        "interactions = load_tensor(dir_input + 'interactions', torch.LongTensor)\n",
        "fingerprint_dict = load_pickle(dir_input + 'fingerprint_dict.pickle')\n",
        "word_dict = load_pickle(dir_input + 'word_dict.pickle')\n",
        "n_fingerprint = len(fingerprint_dict)\n",
        "n_word = len(word_dict)"
      ],
      "metadata": {
        "colab": {
          "base_uri": "https://localhost:8080/"
        },
        "outputId": "ae62e892-7a88-4936-88b3-2b3aa3fd78ae",
        "id": "I9D7WklKXivw"
      },
      "execution_count": 53,
      "outputs": [
        {
          "output_type": "stream",
          "name": "stdout",
          "text": [
            "The code uses GPU...\n"
          ]
        }
      ]
    },
    {
      "cell_type": "code",
      "source": [
        "word_dict"
      ],
      "metadata": {
        "colab": {
          "base_uri": "https://localhost:8080/"
        },
        "id": "VXhRENkpcaWM",
        "outputId": "1db1585e-177a-4aca-8e30-20feeab4616b"
      },
      "execution_count": null,
      "outputs": [
        {
          "output_type": "execute_result",
          "data": {
            "text/plain": [
              "{}"
            ]
          },
          "metadata": {},
          "execution_count": 89
        }
      ]
    },
    {
      "cell_type": "code",
      "source": [
        "\"\"\"Create a dataset and split it into train/dev/test.\"\"\"\n",
        "dataset = list(zip(compounds, adjacencies, proteins, interactions))\n",
        "dataset = shuffle_dataset(dataset, 1234)\n",
        "dataset_train, dataset_ = split_dataset(dataset, 0.8)\n",
        "dataset_dev, dataset_test = split_dataset(dataset_, 0.5)"
      ],
      "metadata": {
        "id": "gKkX--psXiv5"
      },
      "execution_count": 54,
      "outputs": []
    },
    {
      "cell_type": "code",
      "source": [
        "trainer = Trainer(model)\n",
        "tester = Tester(model)"
      ],
      "metadata": {
        "id": "t8K2fMxiiiHx"
      },
      "execution_count": 55,
      "outputs": []
    },
    {
      "cell_type": "code",
      "source": [
        "\"\"\"Start training.\"\"\"\n",
        "\n",
        "print('Training...')\n",
        "\n",
        "start = timeit.default_timer()\n",
        "fttotauc = []\n",
        "fttotlosst = []\n",
        "fttotprec = []\n",
        "fttotrecall = []\n",
        "for epoch in range(1, iteration):\n",
        "\n",
        "  if epoch % decay_interval == 0:\n",
        "      trainer.optimizer.param_groups[0]['lr'] *= lr_decay\n",
        "  \n",
        "  loss_train = trainer.train(dataset_train)\n",
        "  AUC_test, precision_test, recall_test, pi, cv, fv, adj = tester.test(dataset_test)\n",
        "  end = timeit.default_timer()\n",
        "  time = end - start\n",
        "\n",
        "  AUCs = [epoch, time, loss_train, AUC_dev,\n",
        "          AUC_test, precision_test, recall_test]\n",
        "  fttotauc.append(AUC_test)\n",
        "  fttotlosst.append(loss_train)\n",
        "  fttotprec.append(precision_test)\n",
        "  fttotrecall.append(recall_test)\n",
        "  #tester.save_AUCs(AUCs, file_AUCs)\n",
        "\n",
        "  print('\\t'.join(map(str, AUCs)))\n",
        "  #adjacency = adj.cpu().numpy()\n",
        "  #G = nx.DiGraph(adjacency)\n",
        "  #nx.draw(G)"
      ],
      "metadata": {
        "colab": {
          "base_uri": "https://localhost:8080/",
          "height": 1000
        },
        "id": "NXeSzpzIXqMQ",
        "outputId": "480e884c-fac9-40ef-c91b-0addca71e545"
      },
      "execution_count": 57,
      "outputs": [
        {
          "output_type": "stream",
          "name": "stdout",
          "text": [
            "Training...\n"
          ]
        },
        {
          "output_type": "stream",
          "name": "stderr",
          "text": [
            "/usr/local/lib/python3.7/dist-packages/sklearn/metrics/_classification.py:1318: UndefinedMetricWarning: Precision is ill-defined and being set to 0.0 due to no predicted samples. Use `zero_division` parameter to control this behavior.\n",
            "  _warn_prf(average, modifier, msg_start, len(result))\n"
          ]
        },
        {
          "output_type": "stream",
          "name": "stdout",
          "text": [
            "1\t1.0471162449994154\t168.16735643148422\t0.9202946669433492\t0.033333333333333326\t0.0\t0.0\n"
          ]
        },
        {
          "output_type": "stream",
          "name": "stderr",
          "text": [
            "/usr/local/lib/python3.7/dist-packages/sklearn/metrics/_classification.py:1318: UndefinedMetricWarning: Precision is ill-defined and being set to 0.0 due to no predicted samples. Use `zero_division` parameter to control this behavior.\n",
            "  _warn_prf(average, modifier, msg_start, len(result))\n"
          ]
        },
        {
          "output_type": "stream",
          "name": "stdout",
          "text": [
            "2\t2.106714251000085\t168.38655173778534\t0.9202946669433492\t0.033333333333333326\t0.0\t0.0\n"
          ]
        },
        {
          "output_type": "stream",
          "name": "stderr",
          "text": [
            "/usr/local/lib/python3.7/dist-packages/sklearn/metrics/_classification.py:1318: UndefinedMetricWarning: Precision is ill-defined and being set to 0.0 due to no predicted samples. Use `zero_division` parameter to control this behavior.\n",
            "  _warn_prf(average, modifier, msg_start, len(result))\n"
          ]
        },
        {
          "output_type": "stream",
          "name": "stdout",
          "text": [
            "3\t3.188393213999916\t168.555573284626\t0.9202946669433492\t0.033333333333333326\t0.0\t0.0\n"
          ]
        },
        {
          "output_type": "stream",
          "name": "stderr",
          "text": [
            "/usr/local/lib/python3.7/dist-packages/sklearn/metrics/_classification.py:1318: UndefinedMetricWarning: Precision is ill-defined and being set to 0.0 due to no predicted samples. Use `zero_division` parameter to control this behavior.\n",
            "  _warn_prf(average, modifier, msg_start, len(result))\n"
          ]
        },
        {
          "output_type": "stream",
          "name": "stdout",
          "text": [
            "4\t4.236675333999301\t168.68920296430588\t0.9202946669433492\t0.033333333333333326\t0.0\t0.0\n"
          ]
        },
        {
          "output_type": "stream",
          "name": "stderr",
          "text": [
            "/usr/local/lib/python3.7/dist-packages/sklearn/metrics/_classification.py:1318: UndefinedMetricWarning: Precision is ill-defined and being set to 0.0 due to no predicted samples. Use `zero_division` parameter to control this behavior.\n",
            "  _warn_prf(average, modifier, msg_start, len(result))\n"
          ]
        },
        {
          "output_type": "stream",
          "name": "stdout",
          "text": [
            "5\t5.32492398299928\t168.79533982276917\t0.9202946669433492\t0.033333333333333326\t0.0\t0.0\n"
          ]
        },
        {
          "output_type": "stream",
          "name": "stderr",
          "text": [
            "/usr/local/lib/python3.7/dist-packages/sklearn/metrics/_classification.py:1318: UndefinedMetricWarning: Precision is ill-defined and being set to 0.0 due to no predicted samples. Use `zero_division` parameter to control this behavior.\n",
            "  _warn_prf(average, modifier, msg_start, len(result))\n"
          ]
        },
        {
          "output_type": "stream",
          "name": "stdout",
          "text": [
            "6\t6.438288296999417\t168.88070857524872\t0.9202946669433492\t0.033333333333333326\t0.0\t0.0\n"
          ]
        },
        {
          "output_type": "stream",
          "name": "stderr",
          "text": [
            "/usr/local/lib/python3.7/dist-packages/sklearn/metrics/_classification.py:1318: UndefinedMetricWarning: Precision is ill-defined and being set to 0.0 due to no predicted samples. Use `zero_division` parameter to control this behavior.\n",
            "  _warn_prf(average, modifier, msg_start, len(result))\n"
          ]
        },
        {
          "output_type": "stream",
          "name": "stdout",
          "text": [
            "7\t7.520804541999496\t168.94802844524384\t0.9202946669433492\t0.033333333333333326\t0.0\t0.0\n"
          ]
        },
        {
          "output_type": "stream",
          "name": "stderr",
          "text": [
            "/usr/local/lib/python3.7/dist-packages/sklearn/metrics/_classification.py:1318: UndefinedMetricWarning: Precision is ill-defined and being set to 0.0 due to no predicted samples. Use `zero_division` parameter to control this behavior.\n",
            "  _warn_prf(average, modifier, msg_start, len(result))\n"
          ]
        },
        {
          "output_type": "stream",
          "name": "stdout",
          "text": [
            "8\t8.593770599999516\t169.0010952949524\t0.9202946669433492\t0.016666666666666663\t0.0\t0.0\n"
          ]
        },
        {
          "output_type": "stream",
          "name": "stderr",
          "text": [
            "/usr/local/lib/python3.7/dist-packages/sklearn/metrics/_classification.py:1318: UndefinedMetricWarning: Precision is ill-defined and being set to 0.0 due to no predicted samples. Use `zero_division` parameter to control this behavior.\n",
            "  _warn_prf(average, modifier, msg_start, len(result))\n"
          ]
        },
        {
          "output_type": "stream",
          "name": "stdout",
          "text": [
            "9\t9.686097328999494\t169.04112380743027\t0.9202946669433492\t0.2\t0.0\t0.0\n"
          ]
        },
        {
          "output_type": "stream",
          "name": "stderr",
          "text": [
            "/usr/local/lib/python3.7/dist-packages/sklearn/metrics/_classification.py:1318: UndefinedMetricWarning: Precision is ill-defined and being set to 0.0 due to no predicted samples. Use `zero_division` parameter to control this behavior.\n",
            "  _warn_prf(average, modifier, msg_start, len(result))\n"
          ]
        },
        {
          "output_type": "stream",
          "name": "stdout",
          "text": [
            "10\t10.803977859000042\t169.06454062461853\t0.9202946669433492\t0.35\t0.0\t0.0\n"
          ]
        },
        {
          "output_type": "stream",
          "name": "stderr",
          "text": [
            "/usr/local/lib/python3.7/dist-packages/sklearn/metrics/_classification.py:1318: UndefinedMetricWarning: Precision is ill-defined and being set to 0.0 due to no predicted samples. Use `zero_division` parameter to control this behavior.\n",
            "  _warn_prf(average, modifier, msg_start, len(result))\n"
          ]
        },
        {
          "output_type": "stream",
          "name": "stdout",
          "text": [
            "11\t11.87358002200017\t169.07733690738678\t0.9202946669433492\t0.65\t0.0\t0.0\n"
          ]
        },
        {
          "output_type": "stream",
          "name": "stderr",
          "text": [
            "/usr/local/lib/python3.7/dist-packages/sklearn/metrics/_classification.py:1318: UndefinedMetricWarning: Precision is ill-defined and being set to 0.0 due to no predicted samples. Use `zero_division` parameter to control this behavior.\n",
            "  _warn_prf(average, modifier, msg_start, len(result))\n"
          ]
        },
        {
          "output_type": "stream",
          "name": "stdout",
          "text": [
            "12\t12.914366281000184\t169.08839356899261\t0.9202946669433492\t0.4166666666666667\t0.0\t0.0\n"
          ]
        },
        {
          "output_type": "stream",
          "name": "stderr",
          "text": [
            "/usr/local/lib/python3.7/dist-packages/sklearn/metrics/_classification.py:1318: UndefinedMetricWarning: Precision is ill-defined and being set to 0.0 due to no predicted samples. Use `zero_division` parameter to control this behavior.\n",
            "  _warn_prf(average, modifier, msg_start, len(result))\n"
          ]
        },
        {
          "output_type": "stream",
          "name": "stdout",
          "text": [
            "13\t13.972234512999421\t169.0977137684822\t0.9202946669433492\t0.85\t0.0\t0.0\n"
          ]
        },
        {
          "output_type": "stream",
          "name": "stderr",
          "text": [
            "/usr/local/lib/python3.7/dist-packages/sklearn/metrics/_classification.py:1318: UndefinedMetricWarning: Precision is ill-defined and being set to 0.0 due to no predicted samples. Use `zero_division` parameter to control this behavior.\n",
            "  _warn_prf(average, modifier, msg_start, len(result))\n"
          ]
        },
        {
          "output_type": "stream",
          "name": "stdout",
          "text": [
            "14\t15.06543535199944\t169.10534363985062\t0.9202946669433492\t0.5\t0.0\t0.0\n"
          ]
        },
        {
          "output_type": "stream",
          "name": "stderr",
          "text": [
            "/usr/local/lib/python3.7/dist-packages/sklearn/metrics/_classification.py:1318: UndefinedMetricWarning: Precision is ill-defined and being set to 0.0 due to no predicted samples. Use `zero_division` parameter to control this behavior.\n",
            "  _warn_prf(average, modifier, msg_start, len(result))\n"
          ]
        },
        {
          "output_type": "stream",
          "name": "stdout",
          "text": [
            "15\t16.133289203999993\t169.11145842075348\t0.9202946669433492\t0.5\t0.0\t0.0\n"
          ]
        },
        {
          "output_type": "stream",
          "name": "stderr",
          "text": [
            "/usr/local/lib/python3.7/dist-packages/sklearn/metrics/_classification.py:1318: UndefinedMetricWarning: Precision is ill-defined and being set to 0.0 due to no predicted samples. Use `zero_division` parameter to control this behavior.\n",
            "  _warn_prf(average, modifier, msg_start, len(result))\n"
          ]
        },
        {
          "output_type": "stream",
          "name": "stdout",
          "text": [
            "16\t17.241509562999454\t169.11621898412704\t0.9202946669433492\t0.5\t0.0\t0.0\n"
          ]
        },
        {
          "output_type": "stream",
          "name": "stderr",
          "text": [
            "/usr/local/lib/python3.7/dist-packages/sklearn/metrics/_classification.py:1318: UndefinedMetricWarning: Precision is ill-defined and being set to 0.0 due to no predicted samples. Use `zero_division` parameter to control this behavior.\n",
            "  _warn_prf(average, modifier, msg_start, len(result))\n"
          ]
        },
        {
          "output_type": "stream",
          "name": "stdout",
          "text": [
            "17\t18.306739828999525\t169.11981278657913\t0.9202946669433492\t0.5\t0.0\t0.0\n"
          ]
        },
        {
          "output_type": "stream",
          "name": "stderr",
          "text": [
            "/usr/local/lib/python3.7/dist-packages/sklearn/metrics/_classification.py:1318: UndefinedMetricWarning: Precision is ill-defined and being set to 0.0 due to no predicted samples. Use `zero_division` parameter to control this behavior.\n",
            "  _warn_prf(average, modifier, msg_start, len(result))\n"
          ]
        },
        {
          "output_type": "stream",
          "name": "stdout",
          "text": [
            "18\t19.3748178729993\t169.12247502803802\t0.9202946669433492\t0.5\t0.0\t0.0\n"
          ]
        },
        {
          "output_type": "stream",
          "name": "stderr",
          "text": [
            "/usr/local/lib/python3.7/dist-packages/sklearn/metrics/_classification.py:1318: UndefinedMetricWarning: Precision is ill-defined and being set to 0.0 due to no predicted samples. Use `zero_division` parameter to control this behavior.\n",
            "  _warn_prf(average, modifier, msg_start, len(result))\n"
          ]
        },
        {
          "output_type": "stream",
          "name": "stdout",
          "text": [
            "19\t20.42473514899939\t169.12436443567276\t0.9202946669433492\t0.5\t0.0\t0.0\n"
          ]
        },
        {
          "output_type": "stream",
          "name": "stderr",
          "text": [
            "/usr/local/lib/python3.7/dist-packages/sklearn/metrics/_classification.py:1318: UndefinedMetricWarning: Precision is ill-defined and being set to 0.0 due to no predicted samples. Use `zero_division` parameter to control this behavior.\n",
            "  _warn_prf(average, modifier, msg_start, len(result))\n"
          ]
        },
        {
          "output_type": "stream",
          "name": "stdout",
          "text": [
            "20\t21.492319995999424\t169.125406563282\t0.9202946669433492\t0.5\t0.0\t0.0\n"
          ]
        },
        {
          "output_type": "stream",
          "name": "stderr",
          "text": [
            "/usr/local/lib/python3.7/dist-packages/sklearn/metrics/_classification.py:1318: UndefinedMetricWarning: Precision is ill-defined and being set to 0.0 due to no predicted samples. Use `zero_division` parameter to control this behavior.\n",
            "  _warn_prf(average, modifier, msg_start, len(result))\n"
          ]
        },
        {
          "output_type": "stream",
          "name": "stdout",
          "text": [
            "21\t22.560999073999483\t169.12595069408417\t0.9202946669433492\t0.5\t0.0\t0.0\n"
          ]
        },
        {
          "output_type": "stream",
          "name": "stderr",
          "text": [
            "/usr/local/lib/python3.7/dist-packages/sklearn/metrics/_classification.py:1318: UndefinedMetricWarning: Precision is ill-defined and being set to 0.0 due to no predicted samples. Use `zero_division` parameter to control this behavior.\n",
            "  _warn_prf(average, modifier, msg_start, len(result))\n"
          ]
        },
        {
          "output_type": "stream",
          "name": "stdout",
          "text": [
            "22\t23.65143624599932\t169.12640261650085\t0.9202946669433492\t0.5\t0.0\t0.0\n"
          ]
        },
        {
          "output_type": "stream",
          "name": "stderr",
          "text": [
            "/usr/local/lib/python3.7/dist-packages/sklearn/metrics/_classification.py:1318: UndefinedMetricWarning: Precision is ill-defined and being set to 0.0 due to no predicted samples. Use `zero_division` parameter to control this behavior.\n",
            "  _warn_prf(average, modifier, msg_start, len(result))\n"
          ]
        },
        {
          "output_type": "stream",
          "name": "stdout",
          "text": [
            "23\t24.75819701599994\t169.1267693042755\t0.9202946669433492\t0.5\t0.0\t0.0\n"
          ]
        },
        {
          "output_type": "stream",
          "name": "stderr",
          "text": [
            "/usr/local/lib/python3.7/dist-packages/sklearn/metrics/_classification.py:1318: UndefinedMetricWarning: Precision is ill-defined and being set to 0.0 due to no predicted samples. Use `zero_division` parameter to control this behavior.\n",
            "  _warn_prf(average, modifier, msg_start, len(result))\n"
          ]
        },
        {
          "output_type": "stream",
          "name": "stdout",
          "text": [
            "24\t25.811314249000134\t169.1270626783371\t0.9202946669433492\t0.5\t0.0\t0.0\n"
          ]
        },
        {
          "output_type": "stream",
          "name": "stderr",
          "text": [
            "/usr/local/lib/python3.7/dist-packages/sklearn/metrics/_classification.py:1318: UndefinedMetricWarning: Precision is ill-defined and being set to 0.0 due to no predicted samples. Use `zero_division` parameter to control this behavior.\n",
            "  _warn_prf(average, modifier, msg_start, len(result))\n"
          ]
        },
        {
          "output_type": "stream",
          "name": "stdout",
          "text": [
            "25\t26.882532759999776\t169.12729132175446\t0.9202946669433492\t0.5\t0.0\t0.0\n"
          ]
        },
        {
          "output_type": "stream",
          "name": "stderr",
          "text": [
            "/usr/local/lib/python3.7/dist-packages/sklearn/metrics/_classification.py:1318: UndefinedMetricWarning: Precision is ill-defined and being set to 0.0 due to no predicted samples. Use `zero_division` parameter to control this behavior.\n",
            "  _warn_prf(average, modifier, msg_start, len(result))\n"
          ]
        },
        {
          "output_type": "stream",
          "name": "stdout",
          "text": [
            "26\t27.947089741000127\t169.1274654865265\t0.9202946669433492\t0.5\t0.0\t0.0\n"
          ]
        },
        {
          "output_type": "stream",
          "name": "stderr",
          "text": [
            "/usr/local/lib/python3.7/dist-packages/sklearn/metrics/_classification.py:1318: UndefinedMetricWarning: Precision is ill-defined and being set to 0.0 due to no predicted samples. Use `zero_division` parameter to control this behavior.\n",
            "  _warn_prf(average, modifier, msg_start, len(result))\n"
          ]
        },
        {
          "output_type": "stream",
          "name": "stdout",
          "text": [
            "27\t28.995000226999764\t169.12759852409363\t0.9202946669433492\t0.5\t0.0\t0.0\n"
          ]
        },
        {
          "output_type": "stream",
          "name": "stderr",
          "text": [
            "/usr/local/lib/python3.7/dist-packages/sklearn/metrics/_classification.py:1318: UndefinedMetricWarning: Precision is ill-defined and being set to 0.0 due to no predicted samples. Use `zero_division` parameter to control this behavior.\n",
            "  _warn_prf(average, modifier, msg_start, len(result))\n"
          ]
        },
        {
          "output_type": "stream",
          "name": "stdout",
          "text": [
            "28\t30.053217341000163\t169.127691924572\t0.9202946669433492\t0.5\t0.0\t0.0\n"
          ]
        },
        {
          "output_type": "stream",
          "name": "stderr",
          "text": [
            "/usr/local/lib/python3.7/dist-packages/sklearn/metrics/_classification.py:1318: UndefinedMetricWarning: Precision is ill-defined and being set to 0.0 due to no predicted samples. Use `zero_division` parameter to control this behavior.\n",
            "  _warn_prf(average, modifier, msg_start, len(result))\n"
          ]
        },
        {
          "output_type": "stream",
          "name": "stdout",
          "text": [
            "29\t31.106480307999846\t169.12775886058807\t0.9202946669433492\t0.5\t0.0\t0.0\n"
          ]
        },
        {
          "output_type": "stream",
          "name": "stderr",
          "text": [
            "/usr/local/lib/python3.7/dist-packages/sklearn/metrics/_classification.py:1318: UndefinedMetricWarning: Precision is ill-defined and being set to 0.0 due to no predicted samples. Use `zero_division` parameter to control this behavior.\n",
            "  _warn_prf(average, modifier, msg_start, len(result))\n"
          ]
        },
        {
          "output_type": "stream",
          "name": "stdout",
          "text": [
            "30\t32.16720730999987\t169.12779623270035\t0.9202946669433492\t0.5\t0.0\t0.0\n"
          ]
        },
        {
          "output_type": "stream",
          "name": "stderr",
          "text": [
            "/usr/local/lib/python3.7/dist-packages/sklearn/metrics/_classification.py:1318: UndefinedMetricWarning: Precision is ill-defined and being set to 0.0 due to no predicted samples. Use `zero_division` parameter to control this behavior.\n",
            "  _warn_prf(average, modifier, msg_start, len(result))\n"
          ]
        },
        {
          "output_type": "stream",
          "name": "stdout",
          "text": [
            "31\t33.2196020779993\t169.1278259754181\t0.9202946669433492\t0.5\t0.0\t0.0\n"
          ]
        },
        {
          "output_type": "stream",
          "name": "stderr",
          "text": [
            "/usr/local/lib/python3.7/dist-packages/sklearn/metrics/_classification.py:1318: UndefinedMetricWarning: Precision is ill-defined and being set to 0.0 due to no predicted samples. Use `zero_division` parameter to control this behavior.\n",
            "  _warn_prf(average, modifier, msg_start, len(result))\n"
          ]
        },
        {
          "output_type": "stream",
          "name": "stdout",
          "text": [
            "32\t34.27035281000008\t169.1278354525566\t0.9202946669433492\t0.5\t0.0\t0.0\n"
          ]
        },
        {
          "output_type": "stream",
          "name": "stderr",
          "text": [
            "/usr/local/lib/python3.7/dist-packages/sklearn/metrics/_classification.py:1318: UndefinedMetricWarning: Precision is ill-defined and being set to 0.0 due to no predicted samples. Use `zero_division` parameter to control this behavior.\n",
            "  _warn_prf(average, modifier, msg_start, len(result))\n"
          ]
        },
        {
          "output_type": "stream",
          "name": "stdout",
          "text": [
            "33\t35.33253332000004\t169.12785530090332\t0.9202946669433492\t0.5\t0.0\t0.0\n"
          ]
        },
        {
          "output_type": "stream",
          "name": "stderr",
          "text": [
            "/usr/local/lib/python3.7/dist-packages/sklearn/metrics/_classification.py:1318: UndefinedMetricWarning: Precision is ill-defined and being set to 0.0 due to no predicted samples. Use `zero_division` parameter to control this behavior.\n",
            "  _warn_prf(average, modifier, msg_start, len(result))\n"
          ]
        },
        {
          "output_type": "stream",
          "name": "stdout",
          "text": [
            "34\t36.39720759800002\t169.1278669834137\t0.9202946669433492\t0.5\t0.0\t0.0\n"
          ]
        },
        {
          "output_type": "stream",
          "name": "stderr",
          "text": [
            "/usr/local/lib/python3.7/dist-packages/sklearn/metrics/_classification.py:1318: UndefinedMetricWarning: Precision is ill-defined and being set to 0.0 due to no predicted samples. Use `zero_division` parameter to control this behavior.\n",
            "  _warn_prf(average, modifier, msg_start, len(result))\n"
          ]
        },
        {
          "output_type": "stream",
          "name": "stdout",
          "text": [
            "35\t37.462054148999414\t169.12788206338882\t0.9202946669433492\t0.5\t0.0\t0.0\n"
          ]
        },
        {
          "output_type": "stream",
          "name": "stderr",
          "text": [
            "/usr/local/lib/python3.7/dist-packages/sklearn/metrics/_classification.py:1318: UndefinedMetricWarning: Precision is ill-defined and being set to 0.0 due to no predicted samples. Use `zero_division` parameter to control this behavior.\n",
            "  _warn_prf(average, modifier, msg_start, len(result))\n"
          ]
        },
        {
          "output_type": "stream",
          "name": "stdout",
          "text": [
            "36\t38.53002551000009\t169.1278839111328\t0.9202946669433492\t0.5\t0.0\t0.0\n"
          ]
        },
        {
          "output_type": "stream",
          "name": "stderr",
          "text": [
            "/usr/local/lib/python3.7/dist-packages/sklearn/metrics/_classification.py:1318: UndefinedMetricWarning: Precision is ill-defined and being set to 0.0 due to no predicted samples. Use `zero_division` parameter to control this behavior.\n",
            "  _warn_prf(average, modifier, msg_start, len(result))\n"
          ]
        },
        {
          "output_type": "stream",
          "name": "stdout",
          "text": [
            "37\t39.66463260599994\t169.12788444757462\t0.9202946669433492\t0.5\t0.0\t0.0\n"
          ]
        },
        {
          "output_type": "stream",
          "name": "stderr",
          "text": [
            "/usr/local/lib/python3.7/dist-packages/sklearn/metrics/_classification.py:1318: UndefinedMetricWarning: Precision is ill-defined and being set to 0.0 due to no predicted samples. Use `zero_division` parameter to control this behavior.\n",
            "  _warn_prf(average, modifier, msg_start, len(result))\n"
          ]
        },
        {
          "output_type": "stream",
          "name": "stdout",
          "text": [
            "38\t40.72983863099944\t169.12789821624756\t0.9202946669433492\t0.5\t0.0\t0.0\n"
          ]
        },
        {
          "output_type": "stream",
          "name": "stderr",
          "text": [
            "/usr/local/lib/python3.7/dist-packages/sklearn/metrics/_classification.py:1318: UndefinedMetricWarning: Precision is ill-defined and being set to 0.0 due to no predicted samples. Use `zero_division` parameter to control this behavior.\n",
            "  _warn_prf(average, modifier, msg_start, len(result))\n"
          ]
        },
        {
          "output_type": "stream",
          "name": "stdout",
          "text": [
            "39\t41.822584102999826\t169.12789821624756\t0.9202946669433492\t0.5\t0.0\t0.0\n"
          ]
        },
        {
          "output_type": "stream",
          "name": "stderr",
          "text": [
            "/usr/local/lib/python3.7/dist-packages/sklearn/metrics/_classification.py:1318: UndefinedMetricWarning: Precision is ill-defined and being set to 0.0 due to no predicted samples. Use `zero_division` parameter to control this behavior.\n",
            "  _warn_prf(average, modifier, msg_start, len(result))\n"
          ]
        },
        {
          "output_type": "stream",
          "name": "stdout",
          "text": [
            "40\t42.9059663299995\t169.1278981566429\t0.9202946669433492\t0.5\t0.0\t0.0\n"
          ]
        },
        {
          "output_type": "stream",
          "name": "stderr",
          "text": [
            "/usr/local/lib/python3.7/dist-packages/sklearn/metrics/_classification.py:1318: UndefinedMetricWarning: Precision is ill-defined and being set to 0.0 due to no predicted samples. Use `zero_division` parameter to control this behavior.\n",
            "  _warn_prf(average, modifier, msg_start, len(result))\n"
          ]
        },
        {
          "output_type": "stream",
          "name": "stdout",
          "text": [
            "41\t43.99336299700008\t169.1279098391533\t0.9202946669433492\t0.5\t0.0\t0.0\n"
          ]
        },
        {
          "output_type": "stream",
          "name": "stderr",
          "text": [
            "/usr/local/lib/python3.7/dist-packages/sklearn/metrics/_classification.py:1318: UndefinedMetricWarning: Precision is ill-defined and being set to 0.0 due to no predicted samples. Use `zero_division` parameter to control this behavior.\n",
            "  _warn_prf(average, modifier, msg_start, len(result))\n"
          ]
        },
        {
          "output_type": "stream",
          "name": "stdout",
          "text": [
            "42\t45.101595419999285\t169.1279126405716\t0.9202946669433492\t0.5\t0.0\t0.0\n"
          ]
        },
        {
          "output_type": "stream",
          "name": "stderr",
          "text": [
            "/usr/local/lib/python3.7/dist-packages/sklearn/metrics/_classification.py:1318: UndefinedMetricWarning: Precision is ill-defined and being set to 0.0 due to no predicted samples. Use `zero_division` parameter to control this behavior.\n",
            "  _warn_prf(average, modifier, msg_start, len(result))\n"
          ]
        },
        {
          "output_type": "stream",
          "name": "stdout",
          "text": [
            "43\t46.197449936999874\t169.1279126405716\t0.9202946669433492\t0.5\t0.0\t0.0\n"
          ]
        },
        {
          "output_type": "stream",
          "name": "stderr",
          "text": [
            "/usr/local/lib/python3.7/dist-packages/sklearn/metrics/_classification.py:1318: UndefinedMetricWarning: Precision is ill-defined and being set to 0.0 due to no predicted samples. Use `zero_division` parameter to control this behavior.\n",
            "  _warn_prf(average, modifier, msg_start, len(result))\n"
          ]
        },
        {
          "output_type": "stream",
          "name": "stdout",
          "text": [
            "44\t47.30363265899996\t169.1279126405716\t0.9202946669433492\t0.5\t0.0\t0.0\n"
          ]
        },
        {
          "output_type": "stream",
          "name": "stderr",
          "text": [
            "/usr/local/lib/python3.7/dist-packages/sklearn/metrics/_classification.py:1318: UndefinedMetricWarning: Precision is ill-defined and being set to 0.0 due to no predicted samples. Use `zero_division` parameter to control this behavior.\n",
            "  _warn_prf(average, modifier, msg_start, len(result))\n"
          ]
        },
        {
          "output_type": "stream",
          "name": "stdout",
          "text": [
            "45\t48.38397891800014\t169.1279126405716\t0.9202946669433492\t0.5\t0.0\t0.0\n"
          ]
        },
        {
          "output_type": "stream",
          "name": "stderr",
          "text": [
            "/usr/local/lib/python3.7/dist-packages/sklearn/metrics/_classification.py:1318: UndefinedMetricWarning: Precision is ill-defined and being set to 0.0 due to no predicted samples. Use `zero_division` parameter to control this behavior.\n",
            "  _warn_prf(average, modifier, msg_start, len(result))\n"
          ]
        },
        {
          "output_type": "stream",
          "name": "stdout",
          "text": [
            "46\t49.44986591699944\t169.1279126405716\t0.9202946669433492\t0.5\t0.0\t0.0\n"
          ]
        },
        {
          "output_type": "stream",
          "name": "stderr",
          "text": [
            "/usr/local/lib/python3.7/dist-packages/sklearn/metrics/_classification.py:1318: UndefinedMetricWarning: Precision is ill-defined and being set to 0.0 due to no predicted samples. Use `zero_division` parameter to control this behavior.\n",
            "  _warn_prf(average, modifier, msg_start, len(result))\n"
          ]
        },
        {
          "output_type": "stream",
          "name": "stdout",
          "text": [
            "47\t50.50228328199955\t169.1279126405716\t0.9202946669433492\t0.5\t0.0\t0.0\n"
          ]
        },
        {
          "output_type": "stream",
          "name": "stderr",
          "text": [
            "/usr/local/lib/python3.7/dist-packages/sklearn/metrics/_classification.py:1318: UndefinedMetricWarning: Precision is ill-defined and being set to 0.0 due to no predicted samples. Use `zero_division` parameter to control this behavior.\n",
            "  _warn_prf(average, modifier, msg_start, len(result))\n"
          ]
        },
        {
          "output_type": "stream",
          "name": "stdout",
          "text": [
            "48\t51.62233776499943\t169.1279125213623\t0.9202946669433492\t0.5\t0.0\t0.0\n"
          ]
        },
        {
          "output_type": "stream",
          "name": "stderr",
          "text": [
            "/usr/local/lib/python3.7/dist-packages/sklearn/metrics/_classification.py:1318: UndefinedMetricWarning: Precision is ill-defined and being set to 0.0 due to no predicted samples. Use `zero_division` parameter to control this behavior.\n",
            "  _warn_prf(average, modifier, msg_start, len(result))\n"
          ]
        },
        {
          "output_type": "stream",
          "name": "stdout",
          "text": [
            "49\t52.69674415999998\t169.1279125213623\t0.9202946669433492\t0.5\t0.0\t0.0\n"
          ]
        },
        {
          "output_type": "stream",
          "name": "stderr",
          "text": [
            "/usr/local/lib/python3.7/dist-packages/sklearn/metrics/_classification.py:1318: UndefinedMetricWarning: Precision is ill-defined and being set to 0.0 due to no predicted samples. Use `zero_division` parameter to control this behavior.\n",
            "  _warn_prf(average, modifier, msg_start, len(result))\n"
          ]
        },
        {
          "output_type": "stream",
          "name": "stdout",
          "text": [
            "50\t53.74421419800001\t169.1279125213623\t0.9202946669433492\t0.5\t0.0\t0.0\n"
          ]
        },
        {
          "output_type": "stream",
          "name": "stderr",
          "text": [
            "/usr/local/lib/python3.7/dist-packages/sklearn/metrics/_classification.py:1318: UndefinedMetricWarning: Precision is ill-defined and being set to 0.0 due to no predicted samples. Use `zero_division` parameter to control this behavior.\n",
            "  _warn_prf(average, modifier, msg_start, len(result))\n"
          ]
        },
        {
          "output_type": "stream",
          "name": "stdout",
          "text": [
            "51\t54.823603636999906\t169.1279125213623\t0.9202946669433492\t0.5\t0.0\t0.0\n"
          ]
        },
        {
          "output_type": "stream",
          "name": "stderr",
          "text": [
            "/usr/local/lib/python3.7/dist-packages/sklearn/metrics/_classification.py:1318: UndefinedMetricWarning: Precision is ill-defined and being set to 0.0 due to no predicted samples. Use `zero_division` parameter to control this behavior.\n",
            "  _warn_prf(average, modifier, msg_start, len(result))\n"
          ]
        },
        {
          "output_type": "stream",
          "name": "stdout",
          "text": [
            "52\t55.910551465000026\t169.1279125213623\t0.9202946669433492\t0.5\t0.0\t0.0\n"
          ]
        },
        {
          "output_type": "stream",
          "name": "stderr",
          "text": [
            "/usr/local/lib/python3.7/dist-packages/sklearn/metrics/_classification.py:1318: UndefinedMetricWarning: Precision is ill-defined and being set to 0.0 due to no predicted samples. Use `zero_division` parameter to control this behavior.\n",
            "  _warn_prf(average, modifier, msg_start, len(result))\n"
          ]
        },
        {
          "output_type": "stream",
          "name": "stdout",
          "text": [
            "53\t56.98387864899996\t169.1279125213623\t0.9202946669433492\t0.5\t0.0\t0.0\n"
          ]
        },
        {
          "output_type": "stream",
          "name": "stderr",
          "text": [
            "/usr/local/lib/python3.7/dist-packages/sklearn/metrics/_classification.py:1318: UndefinedMetricWarning: Precision is ill-defined and being set to 0.0 due to no predicted samples. Use `zero_division` parameter to control this behavior.\n",
            "  _warn_prf(average, modifier, msg_start, len(result))\n"
          ]
        },
        {
          "output_type": "stream",
          "name": "stdout",
          "text": [
            "54\t58.06701949199942\t169.1279125213623\t0.9202946669433492\t0.5\t0.0\t0.0\n"
          ]
        },
        {
          "output_type": "stream",
          "name": "stderr",
          "text": [
            "/usr/local/lib/python3.7/dist-packages/sklearn/metrics/_classification.py:1318: UndefinedMetricWarning: Precision is ill-defined and being set to 0.0 due to no predicted samples. Use `zero_division` parameter to control this behavior.\n",
            "  _warn_prf(average, modifier, msg_start, len(result))\n"
          ]
        },
        {
          "output_type": "stream",
          "name": "stdout",
          "text": [
            "55\t59.16331300899947\t169.1279125213623\t0.9202946669433492\t0.5\t0.0\t0.0\n"
          ]
        },
        {
          "output_type": "stream",
          "name": "stderr",
          "text": [
            "/usr/local/lib/python3.7/dist-packages/sklearn/metrics/_classification.py:1318: UndefinedMetricWarning: Precision is ill-defined and being set to 0.0 due to no predicted samples. Use `zero_division` parameter to control this behavior.\n",
            "  _warn_prf(average, modifier, msg_start, len(result))\n"
          ]
        },
        {
          "output_type": "stream",
          "name": "stdout",
          "text": [
            "56\t60.24799260199961\t169.1279125213623\t0.9202946669433492\t0.5\t0.0\t0.0\n"
          ]
        },
        {
          "output_type": "stream",
          "name": "stderr",
          "text": [
            "/usr/local/lib/python3.7/dist-packages/sklearn/metrics/_classification.py:1318: UndefinedMetricWarning: Precision is ill-defined and being set to 0.0 due to no predicted samples. Use `zero_division` parameter to control this behavior.\n",
            "  _warn_prf(average, modifier, msg_start, len(result))\n"
          ]
        },
        {
          "output_type": "stream",
          "name": "stdout",
          "text": [
            "57\t61.324332647999654\t169.1279125213623\t0.9202946669433492\t0.5\t0.0\t0.0\n"
          ]
        },
        {
          "output_type": "stream",
          "name": "stderr",
          "text": [
            "/usr/local/lib/python3.7/dist-packages/sklearn/metrics/_classification.py:1318: UndefinedMetricWarning: Precision is ill-defined and being set to 0.0 due to no predicted samples. Use `zero_division` parameter to control this behavior.\n",
            "  _warn_prf(average, modifier, msg_start, len(result))\n"
          ]
        },
        {
          "output_type": "stream",
          "name": "stdout",
          "text": [
            "58\t62.42532814999959\t169.1279125213623\t0.9202946669433492\t0.5\t0.0\t0.0\n"
          ]
        },
        {
          "output_type": "stream",
          "name": "stderr",
          "text": [
            "/usr/local/lib/python3.7/dist-packages/sklearn/metrics/_classification.py:1318: UndefinedMetricWarning: Precision is ill-defined and being set to 0.0 due to no predicted samples. Use `zero_division` parameter to control this behavior.\n",
            "  _warn_prf(average, modifier, msg_start, len(result))\n"
          ]
        },
        {
          "output_type": "stream",
          "name": "stdout",
          "text": [
            "59\t63.511752708999666\t169.1279125213623\t0.9202946669433492\t0.5\t0.0\t0.0\n"
          ]
        },
        {
          "output_type": "stream",
          "name": "stderr",
          "text": [
            "/usr/local/lib/python3.7/dist-packages/sklearn/metrics/_classification.py:1318: UndefinedMetricWarning: Precision is ill-defined and being set to 0.0 due to no predicted samples. Use `zero_division` parameter to control this behavior.\n",
            "  _warn_prf(average, modifier, msg_start, len(result))\n"
          ]
        },
        {
          "output_type": "stream",
          "name": "stdout",
          "text": [
            "60\t64.56221698399986\t169.1279125213623\t0.9202946669433492\t0.5\t0.0\t0.0\n"
          ]
        },
        {
          "output_type": "stream",
          "name": "stderr",
          "text": [
            "/usr/local/lib/python3.7/dist-packages/sklearn/metrics/_classification.py:1318: UndefinedMetricWarning: Precision is ill-defined and being set to 0.0 due to no predicted samples. Use `zero_division` parameter to control this behavior.\n",
            "  _warn_prf(average, modifier, msg_start, len(result))\n"
          ]
        },
        {
          "output_type": "stream",
          "name": "stdout",
          "text": [
            "61\t65.6683820219996\t169.1279125213623\t0.9202946669433492\t0.5\t0.0\t0.0\n"
          ]
        },
        {
          "output_type": "stream",
          "name": "stderr",
          "text": [
            "/usr/local/lib/python3.7/dist-packages/sklearn/metrics/_classification.py:1318: UndefinedMetricWarning: Precision is ill-defined and being set to 0.0 due to no predicted samples. Use `zero_division` parameter to control this behavior.\n",
            "  _warn_prf(average, modifier, msg_start, len(result))\n"
          ]
        },
        {
          "output_type": "stream",
          "name": "stdout",
          "text": [
            "62\t66.71792655099944\t169.1279125213623\t0.9202946669433492\t0.5\t0.0\t0.0\n"
          ]
        },
        {
          "output_type": "stream",
          "name": "stderr",
          "text": [
            "/usr/local/lib/python3.7/dist-packages/sklearn/metrics/_classification.py:1318: UndefinedMetricWarning: Precision is ill-defined and being set to 0.0 due to no predicted samples. Use `zero_division` parameter to control this behavior.\n",
            "  _warn_prf(average, modifier, msg_start, len(result))\n"
          ]
        },
        {
          "output_type": "stream",
          "name": "stdout",
          "text": [
            "63\t67.77453799900013\t169.1279125213623\t0.9202946669433492\t0.5\t0.0\t0.0\n"
          ]
        },
        {
          "output_type": "stream",
          "name": "stderr",
          "text": [
            "/usr/local/lib/python3.7/dist-packages/sklearn/metrics/_classification.py:1318: UndefinedMetricWarning: Precision is ill-defined and being set to 0.0 due to no predicted samples. Use `zero_division` parameter to control this behavior.\n",
            "  _warn_prf(average, modifier, msg_start, len(result))\n"
          ]
        },
        {
          "output_type": "stream",
          "name": "stdout",
          "text": [
            "64\t68.83914949900009\t169.1279125213623\t0.9202946669433492\t0.5\t0.0\t0.0\n"
          ]
        },
        {
          "output_type": "stream",
          "name": "stderr",
          "text": [
            "/usr/local/lib/python3.7/dist-packages/sklearn/metrics/_classification.py:1318: UndefinedMetricWarning: Precision is ill-defined and being set to 0.0 due to no predicted samples. Use `zero_division` parameter to control this behavior.\n",
            "  _warn_prf(average, modifier, msg_start, len(result))\n"
          ]
        },
        {
          "output_type": "stream",
          "name": "stdout",
          "text": [
            "65\t69.87798964000012\t169.1279125213623\t0.9202946669433492\t0.5\t0.0\t0.0\n"
          ]
        },
        {
          "output_type": "stream",
          "name": "stderr",
          "text": [
            "/usr/local/lib/python3.7/dist-packages/sklearn/metrics/_classification.py:1318: UndefinedMetricWarning: Precision is ill-defined and being set to 0.0 due to no predicted samples. Use `zero_division` parameter to control this behavior.\n",
            "  _warn_prf(average, modifier, msg_start, len(result))\n"
          ]
        },
        {
          "output_type": "stream",
          "name": "stdout",
          "text": [
            "66\t70.94795209199947\t169.1279125213623\t0.9202946669433492\t0.5\t0.0\t0.0\n"
          ]
        },
        {
          "output_type": "stream",
          "name": "stderr",
          "text": [
            "/usr/local/lib/python3.7/dist-packages/sklearn/metrics/_classification.py:1318: UndefinedMetricWarning: Precision is ill-defined and being set to 0.0 due to no predicted samples. Use `zero_division` parameter to control this behavior.\n",
            "  _warn_prf(average, modifier, msg_start, len(result))\n"
          ]
        },
        {
          "output_type": "stream",
          "name": "stdout",
          "text": [
            "67\t72.02235650700004\t169.1279125213623\t0.9202946669433492\t0.5\t0.0\t0.0\n"
          ]
        },
        {
          "output_type": "stream",
          "name": "stderr",
          "text": [
            "/usr/local/lib/python3.7/dist-packages/sklearn/metrics/_classification.py:1318: UndefinedMetricWarning: Precision is ill-defined and being set to 0.0 due to no predicted samples. Use `zero_division` parameter to control this behavior.\n",
            "  _warn_prf(average, modifier, msg_start, len(result))\n"
          ]
        },
        {
          "output_type": "stream",
          "name": "stdout",
          "text": [
            "68\t73.14915336499962\t169.1279125213623\t0.9202946669433492\t0.5\t0.0\t0.0\n"
          ]
        },
        {
          "output_type": "stream",
          "name": "stderr",
          "text": [
            "/usr/local/lib/python3.7/dist-packages/sklearn/metrics/_classification.py:1318: UndefinedMetricWarning: Precision is ill-defined and being set to 0.0 due to no predicted samples. Use `zero_division` parameter to control this behavior.\n",
            "  _warn_prf(average, modifier, msg_start, len(result))\n"
          ]
        },
        {
          "output_type": "stream",
          "name": "stdout",
          "text": [
            "69\t74.22608707899963\t169.1279125213623\t0.9202946669433492\t0.5\t0.0\t0.0\n"
          ]
        },
        {
          "output_type": "stream",
          "name": "stderr",
          "text": [
            "/usr/local/lib/python3.7/dist-packages/sklearn/metrics/_classification.py:1318: UndefinedMetricWarning: Precision is ill-defined and being set to 0.0 due to no predicted samples. Use `zero_division` parameter to control this behavior.\n",
            "  _warn_prf(average, modifier, msg_start, len(result))\n"
          ]
        },
        {
          "output_type": "stream",
          "name": "stdout",
          "text": [
            "70\t75.31414016500003\t169.1279125213623\t0.9202946669433492\t0.5\t0.0\t0.0\n"
          ]
        },
        {
          "output_type": "stream",
          "name": "stderr",
          "text": [
            "/usr/local/lib/python3.7/dist-packages/sklearn/metrics/_classification.py:1318: UndefinedMetricWarning: Precision is ill-defined and being set to 0.0 due to no predicted samples. Use `zero_division` parameter to control this behavior.\n",
            "  _warn_prf(average, modifier, msg_start, len(result))\n"
          ]
        },
        {
          "output_type": "stream",
          "name": "stdout",
          "text": [
            "71\t76.37437506300012\t169.1279125213623\t0.9202946669433492\t0.5\t0.0\t0.0\n"
          ]
        },
        {
          "output_type": "stream",
          "name": "stderr",
          "text": [
            "/usr/local/lib/python3.7/dist-packages/sklearn/metrics/_classification.py:1318: UndefinedMetricWarning: Precision is ill-defined and being set to 0.0 due to no predicted samples. Use `zero_division` parameter to control this behavior.\n",
            "  _warn_prf(average, modifier, msg_start, len(result))\n"
          ]
        },
        {
          "output_type": "stream",
          "name": "stdout",
          "text": [
            "72\t77.46515936600008\t169.1279125213623\t0.9202946669433492\t0.5\t0.0\t0.0\n"
          ]
        },
        {
          "output_type": "stream",
          "name": "stderr",
          "text": [
            "/usr/local/lib/python3.7/dist-packages/sklearn/metrics/_classification.py:1318: UndefinedMetricWarning: Precision is ill-defined and being set to 0.0 due to no predicted samples. Use `zero_division` parameter to control this behavior.\n",
            "  _warn_prf(average, modifier, msg_start, len(result))\n"
          ]
        },
        {
          "output_type": "stream",
          "name": "stdout",
          "text": [
            "73\t78.56761659699987\t169.1279125213623\t0.9202946669433492\t0.5\t0.0\t0.0\n"
          ]
        },
        {
          "output_type": "stream",
          "name": "stderr",
          "text": [
            "/usr/local/lib/python3.7/dist-packages/sklearn/metrics/_classification.py:1318: UndefinedMetricWarning: Precision is ill-defined and being set to 0.0 due to no predicted samples. Use `zero_division` parameter to control this behavior.\n",
            "  _warn_prf(average, modifier, msg_start, len(result))\n"
          ]
        },
        {
          "output_type": "stream",
          "name": "stdout",
          "text": [
            "74\t79.66641939300007\t169.1279125213623\t0.9202946669433492\t0.5\t0.0\t0.0\n"
          ]
        },
        {
          "output_type": "stream",
          "name": "stderr",
          "text": [
            "/usr/local/lib/python3.7/dist-packages/sklearn/metrics/_classification.py:1318: UndefinedMetricWarning: Precision is ill-defined and being set to 0.0 due to no predicted samples. Use `zero_division` parameter to control this behavior.\n",
            "  _warn_prf(average, modifier, msg_start, len(result))\n"
          ]
        },
        {
          "output_type": "stream",
          "name": "stdout",
          "text": [
            "75\t80.7213949549996\t169.1279125213623\t0.9202946669433492\t0.5\t0.0\t0.0\n"
          ]
        },
        {
          "output_type": "stream",
          "name": "stderr",
          "text": [
            "/usr/local/lib/python3.7/dist-packages/sklearn/metrics/_classification.py:1318: UndefinedMetricWarning: Precision is ill-defined and being set to 0.0 due to no predicted samples. Use `zero_division` parameter to control this behavior.\n",
            "  _warn_prf(average, modifier, msg_start, len(result))\n"
          ]
        },
        {
          "output_type": "stream",
          "name": "stdout",
          "text": [
            "76\t81.78061855999931\t169.1279125213623\t0.9202946669433492\t0.5\t0.0\t0.0\n"
          ]
        },
        {
          "output_type": "stream",
          "name": "stderr",
          "text": [
            "/usr/local/lib/python3.7/dist-packages/sklearn/metrics/_classification.py:1318: UndefinedMetricWarning: Precision is ill-defined and being set to 0.0 due to no predicted samples. Use `zero_division` parameter to control this behavior.\n",
            "  _warn_prf(average, modifier, msg_start, len(result))\n"
          ]
        },
        {
          "output_type": "stream",
          "name": "stdout",
          "text": [
            "77\t82.90238413799943\t169.1279125213623\t0.9202946669433492\t0.5\t0.0\t0.0\n"
          ]
        },
        {
          "output_type": "stream",
          "name": "stderr",
          "text": [
            "/usr/local/lib/python3.7/dist-packages/sklearn/metrics/_classification.py:1318: UndefinedMetricWarning: Precision is ill-defined and being set to 0.0 due to no predicted samples. Use `zero_division` parameter to control this behavior.\n",
            "  _warn_prf(average, modifier, msg_start, len(result))\n"
          ]
        },
        {
          "output_type": "stream",
          "name": "stdout",
          "text": [
            "78\t83.97071852199952\t169.1279125213623\t0.9202946669433492\t0.5\t0.0\t0.0\n"
          ]
        },
        {
          "output_type": "stream",
          "name": "stderr",
          "text": [
            "/usr/local/lib/python3.7/dist-packages/sklearn/metrics/_classification.py:1318: UndefinedMetricWarning: Precision is ill-defined and being set to 0.0 due to no predicted samples. Use `zero_division` parameter to control this behavior.\n",
            "  _warn_prf(average, modifier, msg_start, len(result))\n"
          ]
        },
        {
          "output_type": "stream",
          "name": "stdout",
          "text": [
            "79\t85.05623603999993\t169.1279125213623\t0.9202946669433492\t0.5\t0.0\t0.0\n"
          ]
        },
        {
          "output_type": "stream",
          "name": "stderr",
          "text": [
            "/usr/local/lib/python3.7/dist-packages/sklearn/metrics/_classification.py:1318: UndefinedMetricWarning: Precision is ill-defined and being set to 0.0 due to no predicted samples. Use `zero_division` parameter to control this behavior.\n",
            "  _warn_prf(average, modifier, msg_start, len(result))\n"
          ]
        },
        {
          "output_type": "stream",
          "name": "stdout",
          "text": [
            "80\t86.10529320800015\t169.1279125213623\t0.9202946669433492\t0.5\t0.0\t0.0\n"
          ]
        },
        {
          "output_type": "stream",
          "name": "stderr",
          "text": [
            "/usr/local/lib/python3.7/dist-packages/sklearn/metrics/_classification.py:1318: UndefinedMetricWarning: Precision is ill-defined and being set to 0.0 due to no predicted samples. Use `zero_division` parameter to control this behavior.\n",
            "  _warn_prf(average, modifier, msg_start, len(result))\n"
          ]
        },
        {
          "output_type": "stream",
          "name": "stdout",
          "text": [
            "81\t87.21159579799951\t169.1279125213623\t0.9202946669433492\t0.5\t0.0\t0.0\n"
          ]
        },
        {
          "output_type": "error",
          "ename": "KeyboardInterrupt",
          "evalue": "ignored",
          "traceback": [
            "\u001b[0;31m---------------------------------------------------------------------------\u001b[0m",
            "\u001b[0;31mKeyboardInterrupt\u001b[0m                         Traceback (most recent call last)",
            "\u001b[0;32m<ipython-input-57-049a9bda6908>\u001b[0m in \u001b[0;36m<module>\u001b[0;34m()\u001b[0m\n\u001b[1;32m     13\u001b[0m       \u001b[0mtrainer\u001b[0m\u001b[0;34m.\u001b[0m\u001b[0moptimizer\u001b[0m\u001b[0;34m.\u001b[0m\u001b[0mparam_groups\u001b[0m\u001b[0;34m[\u001b[0m\u001b[0;36m0\u001b[0m\u001b[0;34m]\u001b[0m\u001b[0;34m[\u001b[0m\u001b[0;34m'lr'\u001b[0m\u001b[0;34m]\u001b[0m \u001b[0;34m*=\u001b[0m \u001b[0mlr_decay\u001b[0m\u001b[0;34m\u001b[0m\u001b[0;34m\u001b[0m\u001b[0m\n\u001b[1;32m     14\u001b[0m \u001b[0;34m\u001b[0m\u001b[0m\n\u001b[0;32m---> 15\u001b[0;31m   \u001b[0mloss_train\u001b[0m \u001b[0;34m=\u001b[0m \u001b[0mtrainer\u001b[0m\u001b[0;34m.\u001b[0m\u001b[0mtrain\u001b[0m\u001b[0;34m(\u001b[0m\u001b[0mdataset_train\u001b[0m\u001b[0;34m)\u001b[0m\u001b[0;34m\u001b[0m\u001b[0;34m\u001b[0m\u001b[0m\n\u001b[0m\u001b[1;32m     16\u001b[0m   \u001b[0mAUC_test\u001b[0m\u001b[0;34m,\u001b[0m \u001b[0mprecision_test\u001b[0m\u001b[0;34m,\u001b[0m \u001b[0mrecall_test\u001b[0m\u001b[0;34m,\u001b[0m \u001b[0mpi\u001b[0m\u001b[0;34m,\u001b[0m \u001b[0mcv\u001b[0m\u001b[0;34m,\u001b[0m \u001b[0mfv\u001b[0m\u001b[0;34m,\u001b[0m \u001b[0madj\u001b[0m \u001b[0;34m=\u001b[0m \u001b[0mtester\u001b[0m\u001b[0;34m.\u001b[0m\u001b[0mtest\u001b[0m\u001b[0;34m(\u001b[0m\u001b[0mdataset_test\u001b[0m\u001b[0;34m)\u001b[0m\u001b[0;34m\u001b[0m\u001b[0;34m\u001b[0m\u001b[0m\n\u001b[1;32m     17\u001b[0m   \u001b[0mend\u001b[0m \u001b[0;34m=\u001b[0m \u001b[0mtimeit\u001b[0m\u001b[0;34m.\u001b[0m\u001b[0mdefault_timer\u001b[0m\u001b[0;34m(\u001b[0m\u001b[0;34m)\u001b[0m\u001b[0;34m\u001b[0m\u001b[0;34m\u001b[0m\u001b[0m\n",
            "\u001b[0;32m<ipython-input-47-8ca607264754>\u001b[0m in \u001b[0;36mtrain\u001b[0;34m(self, dataset)\u001b[0m\n\u001b[1;32m     92\u001b[0m             \u001b[0mloss\u001b[0m \u001b[0;34m=\u001b[0m \u001b[0mself\u001b[0m\u001b[0;34m.\u001b[0m\u001b[0mmodel\u001b[0m\u001b[0;34m(\u001b[0m\u001b[0mdata\u001b[0m\u001b[0;34m)\u001b[0m\u001b[0;34m\u001b[0m\u001b[0;34m\u001b[0m\u001b[0m\n\u001b[1;32m     93\u001b[0m             \u001b[0mself\u001b[0m\u001b[0;34m.\u001b[0m\u001b[0moptimizer\u001b[0m\u001b[0;34m.\u001b[0m\u001b[0mzero_grad\u001b[0m\u001b[0;34m(\u001b[0m\u001b[0;34m)\u001b[0m\u001b[0;34m\u001b[0m\u001b[0;34m\u001b[0m\u001b[0m\n\u001b[0;32m---> 94\u001b[0;31m             \u001b[0mloss\u001b[0m\u001b[0;34m.\u001b[0m\u001b[0mbackward\u001b[0m\u001b[0;34m(\u001b[0m\u001b[0;34m)\u001b[0m\u001b[0;34m\u001b[0m\u001b[0;34m\u001b[0m\u001b[0m\n\u001b[0m\u001b[1;32m     95\u001b[0m             \u001b[0mself\u001b[0m\u001b[0;34m.\u001b[0m\u001b[0moptimizer\u001b[0m\u001b[0;34m.\u001b[0m\u001b[0mstep\u001b[0m\u001b[0;34m(\u001b[0m\u001b[0;34m)\u001b[0m\u001b[0;34m\u001b[0m\u001b[0;34m\u001b[0m\u001b[0m\n\u001b[1;32m     96\u001b[0m             \u001b[0mloss_total\u001b[0m \u001b[0;34m+=\u001b[0m \u001b[0mloss\u001b[0m\u001b[0;34m.\u001b[0m\u001b[0mto\u001b[0m\u001b[0;34m(\u001b[0m\u001b[0;34m'cpu'\u001b[0m\u001b[0;34m)\u001b[0m\u001b[0;34m.\u001b[0m\u001b[0mdata\u001b[0m\u001b[0;34m.\u001b[0m\u001b[0mnumpy\u001b[0m\u001b[0;34m(\u001b[0m\u001b[0;34m)\u001b[0m\u001b[0;34m\u001b[0m\u001b[0;34m\u001b[0m\u001b[0m\n",
            "\u001b[0;32m/usr/local/lib/python3.7/dist-packages/torch/_tensor.py\u001b[0m in \u001b[0;36mbackward\u001b[0;34m(self, gradient, retain_graph, create_graph, inputs)\u001b[0m\n\u001b[1;32m    305\u001b[0m                 \u001b[0mcreate_graph\u001b[0m\u001b[0;34m=\u001b[0m\u001b[0mcreate_graph\u001b[0m\u001b[0;34m,\u001b[0m\u001b[0;34m\u001b[0m\u001b[0;34m\u001b[0m\u001b[0m\n\u001b[1;32m    306\u001b[0m                 inputs=inputs)\n\u001b[0;32m--> 307\u001b[0;31m         \u001b[0mtorch\u001b[0m\u001b[0;34m.\u001b[0m\u001b[0mautograd\u001b[0m\u001b[0;34m.\u001b[0m\u001b[0mbackward\u001b[0m\u001b[0;34m(\u001b[0m\u001b[0mself\u001b[0m\u001b[0;34m,\u001b[0m \u001b[0mgradient\u001b[0m\u001b[0;34m,\u001b[0m \u001b[0mretain_graph\u001b[0m\u001b[0;34m,\u001b[0m \u001b[0mcreate_graph\u001b[0m\u001b[0;34m,\u001b[0m \u001b[0minputs\u001b[0m\u001b[0;34m=\u001b[0m\u001b[0minputs\u001b[0m\u001b[0;34m)\u001b[0m\u001b[0;34m\u001b[0m\u001b[0;34m\u001b[0m\u001b[0m\n\u001b[0m\u001b[1;32m    308\u001b[0m \u001b[0;34m\u001b[0m\u001b[0m\n\u001b[1;32m    309\u001b[0m     \u001b[0;32mdef\u001b[0m \u001b[0mregister_hook\u001b[0m\u001b[0;34m(\u001b[0m\u001b[0mself\u001b[0m\u001b[0;34m,\u001b[0m \u001b[0mhook\u001b[0m\u001b[0;34m)\u001b[0m\u001b[0;34m:\u001b[0m\u001b[0;34m\u001b[0m\u001b[0;34m\u001b[0m\u001b[0m\n",
            "\u001b[0;32m/usr/local/lib/python3.7/dist-packages/torch/autograd/__init__.py\u001b[0m in \u001b[0;36mbackward\u001b[0;34m(tensors, grad_tensors, retain_graph, create_graph, grad_variables, inputs)\u001b[0m\n\u001b[1;32m    154\u001b[0m     Variable._execution_engine.run_backward(\n\u001b[1;32m    155\u001b[0m         \u001b[0mtensors\u001b[0m\u001b[0;34m,\u001b[0m \u001b[0mgrad_tensors_\u001b[0m\u001b[0;34m,\u001b[0m \u001b[0mretain_graph\u001b[0m\u001b[0;34m,\u001b[0m \u001b[0mcreate_graph\u001b[0m\u001b[0;34m,\u001b[0m \u001b[0minputs\u001b[0m\u001b[0;34m,\u001b[0m\u001b[0;34m\u001b[0m\u001b[0;34m\u001b[0m\u001b[0m\n\u001b[0;32m--> 156\u001b[0;31m         allow_unreachable=True, accumulate_grad=True)  # allow_unreachable flag\n\u001b[0m\u001b[1;32m    157\u001b[0m \u001b[0;34m\u001b[0m\u001b[0m\n\u001b[1;32m    158\u001b[0m \u001b[0;34m\u001b[0m\u001b[0m\n",
            "\u001b[0;31mKeyboardInterrupt\u001b[0m: "
          ]
        }
      ]
    },
    {
      "cell_type": "code",
      "source": [
        "\n",
        "\n",
        "plt.plot(fttotauc[:50])\n",
        "plt.title(\"AUC\")\n",
        "plt.ylabel(\"AUC score\")\n",
        "plt.xlabel(\"epoch\")\n",
        "\n",
        "\n"
      ],
      "metadata": {
        "colab": {
          "base_uri": "https://localhost:8080/",
          "height": 313
        },
        "id": "NY5E3vyUYqQ4",
        "outputId": "09bdb10f-c0bf-4363-9cb5-39925f13995b"
      },
      "execution_count": 58,
      "outputs": [
        {
          "output_type": "execute_result",
          "data": {
            "text/plain": [
              "Text(0.5, 0, 'epoch')"
            ]
          },
          "metadata": {},
          "execution_count": 58
        },
        {
          "output_type": "display_data",
          "data": {
            "text/plain": [
              "<Figure size 432x288 with 1 Axes>"
            ],
            "image/png": "[encoded data removed]"
          },
          "metadata": {
            "needs_background": "light"
          }
        }
      ]
    },
    {
      "cell_type": "code",
      "source": [
        ""
      ],
      "metadata": {
        "id": "F4r57aEHiyOC"
      },
      "execution_count": null,
      "outputs": []
    }
  ],
  "metadata": {
    "kernelspec": {
      "display_name": "Python 3 (ipykernel)",
      "language": "python",
      "name": "python3"
    },
    "language_info": {
      "codemirror_mode": {
        "name": "ipython",
        "version": 3
      },
      "file_extension": ".py",
      "mimetype": "text/x-python",
      "name": "python",
      "nbconvert_exporter": "python",
      "pygments_lexer": "ipython3",
      "version": "3.9.7"
    },
    "colab": {
      "name": "PPI_classification.ipynb",
      "provenance": [],
      "collapsed_sections": []
    },
    "accelerator": "GPU"
  },
  "nbformat": 4,
  "nbformat_minor": 0
}